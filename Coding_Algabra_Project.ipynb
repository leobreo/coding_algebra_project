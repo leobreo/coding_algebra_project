{
 "cells": [
  {
   "cell_type": "markdown",
   "id": "98b9a91a",
   "metadata": {},
   "source": [
    "# Final Assignment"
   ]
  },
  {
   "cell_type": "markdown",
   "id": "e6ee7fcc",
   "metadata": {},
   "source": [
    "## Question 1 - Sub-Numpy"
   ]
  },
  {
   "cell_type": "markdown",
   "id": "a9155bba",
   "metadata": {},
   "source": [
    "### SubClass / Function definition"
   ]
  },
  {
   "cell_type": "code",
   "execution_count": 1,
   "id": "d41ff3bb",
   "metadata": {
    "scrolled": true
   },
   "outputs": [],
   "source": [
    "# Creating the class and defining the different functions\n",
    "\n",
    "class SNumPy:\n",
    "    \n",
    "    # Define the ones function \n",
    "        # The allowed input is an integer i\n",
    "        # The function returns a list with the length len(i) containing only 1's \n",
    "        \n",
    "    def ones(i: int):\n",
    "        \n",
    "        ''' \n",
    "        The ones function takes an int parameter i and returns an array (list) of len(i), and the array contains only ones.\n",
    "        '''\n",
    "        \n",
    "        return [1] * i \n",
    "    \n",
    "    \n",
    "    # Define the zeros function\n",
    " \n",
    "    def zeros(i):\n",
    "        \n",
    "        ''' \n",
    "        The zeros function takes an int parameter i and returns an array (list) of len(i), and the array contains only zeros.\n",
    "        '''\n",
    "        \n",
    "        return [0] * i \n",
    "    \n",
    "    \n",
    "    \n",
    "    # Define the reshape function\n",
    "    ''' \n",
    "        Example: In the first iteration of the (nested) for loop, r is 0 and c is 0. Therefore we get the value of the initial array at position [0], no matter how many columns are desired.\n",
    "                The first subsetted value is then appended to the first row. For every additional column in the row, the loop proceeds similarly.\n",
    "                Once reached the required number of columns, the resulting row is appended to the final matrix result. Then the same happens for the second row. \n",
    "                Through adding \"column * r\" to the column number, we make sure to take the next values for the next row.\n",
    "    '''\n",
    "    \n",
    "    def reshape(array, shape: tuple):\n",
    "        \n",
    "        '''\n",
    "        The reshape function takes an array and converts it into the dimensions specified by the tuple (row, column). Hence, this function converts from a vector to a matrix.\n",
    "        '''\n",
    "        \n",
    "        # check if shape is entered as tuple and raise a ValueError if not\n",
    "        if len(shape) != 2:\n",
    "            raise ValueError(\"The desired shape must be entered as tuple in the following format: (rows, columns)\")\n",
    "       \n",
    "        # check if given array (list) can be reshaped with the specified number of rows / columns and raise a ValueError if not\n",
    "        elif len(array) != shape[0] * shape[1]:\n",
    "            raise ValueError(\"The array cannot be reshaped with the given shape because its elements cannot be equally distributed over the specified number of rows.\")\n",
    "        \n",
    "        # create empty list for the result\n",
    "        else:\n",
    "            result = []\n",
    "    \n",
    "            # (nested) for loop to create the necessary number of rows (and columns)\n",
    "            # to get the actual values for the rows, the initial array is subsetted and the resulting values are appended to the created row\n",
    "            # in the end, all created rows are appended to the result\n",
    "            for r in range(shape[0]):\n",
    "                row_new = []\n",
    "                for c in range(shape[1]):\n",
    "                    row_new.append(array[c + shape[1] * r])\n",
    "                result.append(row_new)\n",
    "        return result\n",
    "    \n",
    "\n",
    "    # Define the shape function\n",
    "    def shape(array):\n",
    "        \n",
    "        '''\n",
    "        The shape function returns a tuple with the matrix / vector's dimensions, e.g. (#rows, #columns)        \n",
    "        '''\n",
    "        \n",
    "        # check if the inserted array is a matrix (i.e. first element of array is a list)\n",
    "        if isinstance(array[0], list) is True:\n",
    "            \n",
    "            # the number of rows equals the length of the inserted array because each element is a list (i.e. row)\n",
    "            # the number of columns equals the length of the first element of the inserted array\n",
    "            shape = (len(array),len(array[0]))\n",
    "            \n",
    "            return shape\n",
    "        \n",
    "        # if vector (i.e. first element of array is not a list)\n",
    "        else:\n",
    "            # if the array is a vector, there are no columns but only the length of the vector that we get through len(array)\n",
    "            shape = (1,len(array))\n",
    "            return shape\n",
    "    \n",
    "    \n",
    "    \n",
    "    # Define the append function\n",
    "    def append(array1, array2):\n",
    "        \n",
    "        '''\n",
    "        The append function returns a new vector / matrix that is the combination of the two input vectors / matrices.\n",
    "        '''\n",
    "        \n",
    "         # store shape 1 and shape 2 variables to ease reusage within the function\n",
    "        shape1 = SNumPy.shape(array1)\n",
    "        shape2 = SNumPy.shape(array2)\n",
    "        \n",
    "        # if both arrays are matrices\n",
    "        # check if for each array the first element is a list (i.e. the array is a list of lists and therefore a matrix)\n",
    "        if isinstance(array1[0], list) is True and isinstance(array2[0], list) is True:\n",
    "            \n",
    "            # check if the number of columns of the matrices is identical, otherwise they cannot be appended\n",
    "            if shape1[0] == shape2[0]:\n",
    "                \n",
    "                # create empty list for the new matrix\n",
    "                new_matrix = []\n",
    "                \n",
    "                # the for loop concatenates the first row of array1 with the first row of array2 and so on\n",
    "                # the newly built rows are then appended to the new matrix\n",
    "                for i in range(len(array1)):\n",
    "                    new_row = array1[i] + array2[i]\n",
    "                    new_matrix.append(new_row)\n",
    "                return new_matrix\n",
    "            \n",
    "            # raise a ValueError if the inserted arrays do not have the same dimension        \n",
    "            else:\n",
    "                raise ValueError(\"The matrices do not have the same number of rows and thus cannot be appended.\")\n",
    "\n",
    "        \n",
    "        # if both arrays are vectors\n",
    "        # check if for each array the first element is an integer (i.e. the array is a simple list and therefore a vector)\n",
    "        elif isinstance(array1[0], int) is True and isinstance(array2[0], int) is True:\n",
    "             \n",
    "            # The lists are then concatenated\n",
    "            new_vector = array1 + array2\n",
    "            return new_vector\n",
    "            \n",
    "        # if trying to append a matrix to a vector and vice versa\n",
    "        else:\n",
    "            raise ValueError(\"A matrix cannot be appended to a vector and vice versa.\")\n",
    "    \n",
    "    \n",
    "    \n",
    "    \n",
    "    # Define the get function\n",
    "        # note zero indexing for the shape tuple\n",
    "    \n",
    "    def get(array, shape: tuple):\n",
    "        \n",
    "        '''\n",
    "        The get function returns a the value specified by the coordinate point (row, column) of the array provided (can be vector or matrix).\n",
    "        '''\n",
    "        \n",
    "        # in case of matrix\n",
    "        if isinstance(array[0], list) is True:\n",
    "            \n",
    "            # raise an IndexError if either the row number or column number is out of the matrix dimension\n",
    "            if shape[0] >= len(array) or shape[1] >= len(array[0]):\n",
    "                raise IndexError(\"Out of matrix dimension.\")\n",
    "            else:\n",
    "                # subset list with the specified row and column number\n",
    "                return array[shape[0]][shape[1]]\n",
    "        \n",
    "        # in case of vector\n",
    "        elif isinstance(array[0], int) is True:\n",
    "            \n",
    "            # raise an IndexError if the requested value is not within the length of the vector\n",
    "            if shape[1] >= len(array):\n",
    "                raise IndexError(\"Out of vector dimension.\")\n",
    "            elif shape[0] != 0:\n",
    "                raise IndexError(\"The number of rows for the vector must be one which translates to 0 due to zero indexing.\")\n",
    "            else:\n",
    "                # subset list with the specified column number\n",
    "                return array[shape[1]]\n",
    "    \n",
    "    \n",
    "    \n",
    "    # Define the add function\n",
    "    def add(array1, array2):\n",
    "        \n",
    "        '''\n",
    "        The add function adds on vectors / matrices. \n",
    "        '''\n",
    "        \n",
    "        # store shape 1 and shape 2 variables to ease reusage within the function\n",
    "        shape1 = SNumPy.shape(array1)\n",
    "        shape2 = SNumPy.shape(array2)\n",
    "        \n",
    "        # if the arrays are matrices\n",
    "        if isinstance(array1[0], list) is True and shape1 == shape2:\n",
    "            new_matrix = []\n",
    "            # going through the rows\n",
    "            for i in range(shape1[0]):\n",
    "                # going through the columns\n",
    "                for j in range(shape1[1]):\n",
    "                    # appending the sums to the new list\n",
    "                    new_matrix.append(array1[i][j] + array2[i][j])\n",
    "                    \n",
    "            # creating the final output matrix by reshaping new_matrix with the given dimension and outputting result\n",
    "            result = []\n",
    "            for r in range(shape1[0]):\n",
    "                row_new = []\n",
    "                for c in range(shape1[1]):\n",
    "                    row_new.append(new_matrix[c + shape1[1] * r])\n",
    "                result.append(row_new)\n",
    "            return result \n",
    "        \n",
    "        # if the arrays are vectors\n",
    "        elif isinstance(array1[0], int) is True and shape1 == shape2:\n",
    "            new_vector = []\n",
    "            \n",
    "            # iterating over the vector length and appending the sum of the respective elements to the new vector           \n",
    "            for i in range(len(array1)):\n",
    "                new_vector.append(array1[i] + array2[i])\n",
    "            return new_vector\n",
    "            \n",
    "        \n",
    "        else: \n",
    "            # raise a ValueError if the arrays do not have the same dimension and thus cannot be added\n",
    "            raise ValueError(\"The arrays do not have the same dimension and thus cannot be added.\")\n",
    "            \n",
    "    \n",
    "    \n",
    "    # Define the subtract function\n",
    "    def subtract(array1, array2):\n",
    "        \n",
    "        '''\n",
    "        The subtract function subtracts on vectors / matrices. \n",
    "        '''\n",
    "        \n",
    "        # store shape 1 and shape 2 variables to ease reusage within the function\n",
    "        shape1 = SNumPy.shape(array1)\n",
    "        shape2 = SNumPy.shape(array2)\n",
    "\n",
    "        # if the arrays are matrices\n",
    "        if isinstance(array1[0], list) and shape1 == shape2:\n",
    "            new_matrix = []\n",
    "            # going through the rows\n",
    "            for i in range(shape1[0]):\n",
    "                # going through the columns\n",
    "                for j in range(shape1[1]):\n",
    "                    # appending the new values to the new list\n",
    "                    new_matrix.append(array1[i][j] - array2[i][j])\n",
    "                    \n",
    "            # creating the final output matrix by reshaping new_matrix with the given dimension and outputting result\n",
    "            result = []\n",
    "            for r in range(shape1[0]):\n",
    "                row_new = []\n",
    "                for c in range(shape1[1]):\n",
    "                    row_new.append(new_matrix[c + shape1[1] * r])\n",
    "                result.append(row_new)\n",
    "            return result \n",
    "\n",
    "        # if the arrays are vectors\n",
    "        elif isinstance(array1[0], int) and shape1 == shape2:\n",
    "            new_vector = []\n",
    "            for i in range(len(array1)):\n",
    "                new_vector.append(array1[i] - array2[i])\n",
    "            return new_vector\n",
    "\n",
    "        else: \n",
    "            # raise a ValueError if the arrays do not have the same dimension and thus cannot be subtracted\n",
    "            raise ValueError(\"The arrays do not have the same dimension and thus cannot be subtracted.\") \n",
    "    \n",
    "    \n",
    "    \n",
    "    # Define the dotproduct function\n",
    "    def dotproduct(array1, array2):\n",
    "        \n",
    "        '''\n",
    "        The dotproduct function computes the dot product between two arrays (which could be vectors or / and matrices) and returns an appropriate value. \n",
    "        '''\n",
    "        \n",
    "        # store shape 1 and shape 2 variables to ease reusage within the function\n",
    "        shape1 = SNumPy.shape(array1)\n",
    "        shape2 = SNumPy.shape(array2)\n",
    "        \n",
    "        # if both arrays are vectors\n",
    "        if isinstance(array1[0], int) is True and shape1 == shape2:\n",
    "            products = []\n",
    "            \n",
    "            # for loop iterates over the arrays and appends the product of the respective elements to the new list products\n",
    "            for i in range(len(array1)):\n",
    "                products.append(array1[i] * array2[i])\n",
    "                \n",
    "            # we return the sum of the products list\n",
    "            return sum(products)\n",
    "            \n",
    "        # if both arrays are matrices\n",
    "        # check that first element is list and that the number of columns of the first matrix equals the number of rows of the second matrix\n",
    "        elif isinstance(array1[0], list) is True and shape1[1] == shape2[0]:\n",
    "            result = []\n",
    "            \n",
    "            # iterating over the rows of the first array\n",
    "            for i in range(len(array1)):\n",
    "                rows = []\n",
    "                \n",
    "                # iterating over the columns of the second array\n",
    "                for j in range(len(array2[0])):\n",
    "                    elements = 0\n",
    "                    \n",
    "                    # iterating over the columns of the first array\n",
    "                    for k in range(len(array1[0])):\n",
    "                        \n",
    "                        # calculating the elements                      \n",
    "                        elements += array1[i][k] * array2[k][j]\n",
    "                        \n",
    "                    # append the elements to the rows\n",
    "                    rows.append(elements)\n",
    "                    \n",
    "                # append the rows to the result\n",
    "                result.append(rows)\n",
    "                \n",
    "            return result\n",
    "        \n",
    "        # if the arrays are of mixed type (e.g. array1 being a matrix and array2 being a vector)\n",
    "        \n",
    "        elif isinstance(array1[0], list) is True or isinstance(array2[0], list):\n",
    "            \n",
    "            # first array is matrix\n",
    "            if isinstance(array1[0], list) is True and isinstance(array2[0], int) and len(array1[0]) == len(array2):\n",
    "                \n",
    "                # iterate over the number of rows of the matrix (i.e. array1)\n",
    "                result = []\n",
    "                for i in range(len(array1)):\n",
    "                    elements = 0\n",
    "                    \n",
    "                    # iterate over the length of the vector\n",
    "                    for j in range(len(array2)):\n",
    "                        # calculate elments\n",
    "                        elements += array1[i][j] * array2[j]\n",
    "                        # append elements to result\n",
    "                    result.append(elements)\n",
    "                return result\n",
    "            \n",
    "            # second array is matrix\n",
    "            elif isinstance(array1[0], int) is True and isinstance(array2[0], list) and len(array1) == len(array2[0]):\n",
    "                \n",
    "                # iterate over length the number of rows of the matrix (i.e. array2)\n",
    "                result = []\n",
    "                for i in range(len(array2)):\n",
    "                    elements = 0\n",
    "                    \n",
    "                    # iterate over the length of the vector\n",
    "                    for j in range(len(array1)):\n",
    "                        # calculate elements\n",
    "                        elements += array2[j][i] * array1[j]\n",
    "                        # append elements to result\n",
    "                    result.append(elements)\n",
    "                return result\n",
    "            \n",
    "            else:\n",
    "                # raise ValueError for the dimensions\n",
    "                raise ValueError(\"The dot product of the given arrays cannot be calculated. Please check the dimensions.\")\n",
    "        \n",
    "        else:\n",
    "            # raise ValueError for the dimensions\n",
    "            raise ValueError(\"The dot product of the given arrays cannot be calculated. Please check the dimensions.\")\n",
    "    \n"
   ]
  },
  {
   "cell_type": "markdown",
   "id": "7de6035d",
   "metadata": {
    "scrolled": true
   },
   "source": [
    "### Test Functionality"
   ]
  },
  {
   "cell_type": "code",
   "execution_count": 2,
   "id": "72febb22",
   "metadata": {
    "scrolled": true
   },
   "outputs": [
    {
     "name": "stdout",
     "output_type": "stream",
     "text": [
      "Example 1: [1, 1, 1, 1, 1]\n",
      "Example 2: [1, 1, 1, 1, 1, 1, 1, 1, 1, 1, 1, 1, 1, 1]\n"
     ]
    }
   ],
   "source": [
    "import numpy as np\n",
    "\n",
    "# Ones \n",
    "\n",
    "ex1 = 5\n",
    "ex2 = 14\n",
    "\n",
    "print(\"Example 1: \" + str(SNumPy.ones(ex1)))\n",
    "print(\"Example 2: \" + str(SNumPy.ones(ex2)))\n",
    "\n"
   ]
  },
  {
   "cell_type": "code",
   "execution_count": 3,
   "id": "903cfe53",
   "metadata": {},
   "outputs": [
    {
     "name": "stdout",
     "output_type": "stream",
     "text": [
      "Example 3: [0, 0, 0, 0, 0, 0, 0, 0]\n",
      "Example 4: [0, 0, 0, 0, 0, 0, 0, 0, 0, 0, 0, 0, 0, 0, 0, 0, 0, 0, 0]\n"
     ]
    }
   ],
   "source": [
    "# Zeros\n",
    "\n",
    "ex3 = 8\n",
    "ex4 = 19\n",
    "\n",
    "# first function alternative\n",
    "print(\"Example 3: \" + str(SNumPy.zeros(ex3)))\n",
    "print(\"Example 4: \" + str(SNumPy.zeros(ex4)))\n",
    "\n"
   ]
  },
  {
   "cell_type": "code",
   "execution_count": 4,
   "id": "2dd06a68",
   "metadata": {},
   "outputs": [
    {
     "name": "stdout",
     "output_type": "stream",
     "text": [
      "SNumPy Example: [[1, 2, 3], [4, 5, 6], [7, 8, 9]]\n",
      "\n",
      "NumPy Example:\n",
      "[[1 2 3]\n",
      " [4 5 6]\n",
      " [7 8 9]]\n"
     ]
    }
   ],
   "source": [
    "# Reshape\n",
    "\n",
    "lst1 = [1,2,3,4,5,6,7,8,9]\n",
    "ex_shape1 = (3,3)\n",
    "\n",
    "print(\"SNumPy Example: \" + str(SNumPy.reshape(lst1,ex_shape1)))\n",
    "\n",
    "print()\n",
    "\n",
    "# comparison with NumPy\n",
    "print(\"NumPy Example:\")\n",
    "print(np.reshape(lst1,(3,3)))"
   ]
  },
  {
   "cell_type": "code",
   "execution_count": 5,
   "id": "f8ab51e9",
   "metadata": {},
   "outputs": [
    {
     "name": "stdout",
     "output_type": "stream",
     "text": [
      "SNumPy Matrix Example: (4, 3)\n",
      "SNumPy Vector Example: (1, 5)\n",
      "\n",
      "NumPy Matrix Example: (4, 3)\n",
      "NumPy Vector Example: (5,)\n"
     ]
    }
   ],
   "source": [
    "# Shape\n",
    "\n",
    "lst2 = [[1,2,3],[6,4,2],[9,6,3],[1,8,2]]\n",
    "lst_2 = [1,2,3,4,5]\n",
    "\n",
    "print(\"SNumPy Matrix Example: \" + str(SNumPy.shape(lst2)))\n",
    "print(\"SNumPy Vector Example: \" + str(SNumPy.shape(lst_2)))  \n",
    "\n",
    "print()\n",
    "\n",
    "# comparison with NumPy\n",
    "print(\"NumPy Matrix Example: \" + str(np.shape(lst2)))\n",
    "print(\"NumPy Vector Example: \" + str(np.shape(lst_2)))"
   ]
  },
  {
   "cell_type": "code",
   "execution_count": 6,
   "id": "d71eb120",
   "metadata": {
    "scrolled": true
   },
   "outputs": [
    {
     "name": "stdout",
     "output_type": "stream",
     "text": [
      "SNumPy Matrix Example: [[1, 2, 3, 7, 7, 7], [1, 2, 3, 5, 2, 8], [1, 2, 3, 4, 1, 9]]\n",
      "SnumPy Vector Example: [1, 2, 3, 4, 5, 6, 7, 3, 4, 1, 6, 8, 7, 9]\n",
      "\n",
      "NumPy Matrix Example:\n",
      "[[1 2 3 7 7 7]\n",
      " [1 2 3 5 2 8]\n",
      " [1 2 3 4 1 9]]\n",
      "NumPy Vector Example:\n",
      "[1 2 3 1 2 3 1 2 3 7 7 7 5 2 8 4 1 9]\n"
     ]
    }
   ],
   "source": [
    "# Append\n",
    "\n",
    "# Example: Matrices\n",
    "lst3 = [[1,2,3],[1,2,3],[1,2,3]]\n",
    "lst4 = [[7,7,7],[5,2,8],[4,1,9]]\n",
    "\n",
    "print(\"SNumPy Matrix Example: \" + str(SNumPy.append(lst3,lst4)))\n",
    "\n",
    "# Example: Vectors\n",
    "lst5 = [1,2,3,4,5,6,7]\n",
    "lst6 = [3,4,1,6,8,7,9]\n",
    "\n",
    "print(\"SnumPy Vector Example: \" + str(SNumPy.append(lst5,lst6)))\n",
    "\n",
    "print()\n",
    "\n",
    "# comparison with NumPy\n",
    "print(\"NumPy Matrix Example:\")\n",
    "print(np.append(lst3,lst4,axis=1))\n",
    "print(\"NumPy Vector Example:\")\n",
    "print(np.append(lst3,lst4))"
   ]
  },
  {
   "cell_type": "code",
   "execution_count": 7,
   "id": "db587b7e",
   "metadata": {},
   "outputs": [
    {
     "name": "stdout",
     "output_type": "stream",
     "text": [
      "SNumPy Matrix Example: 22\n",
      "SNumPy Vector Example: 4\n",
      "\n",
      "NumPy Matrix Example: 22\n",
      "NumPy Vector Example: 4\n"
     ]
    }
   ],
   "source": [
    "# Get (note: zero indexing)\n",
    "\n",
    "lst7 = [[7,7,7,7],[5,2,8,9],[4,1,9,22],[2,3,1,13]]\n",
    "lst_7 = [1,2,3,4]\n",
    "\n",
    "# get value from matrix\n",
    "print(\"SNumPy Matrix Example: \" + str(SNumPy.get(lst7,(2,3))))\n",
    "\n",
    "# get value from vector (row = 0 as row-vector and zero-indexing)\n",
    "print(\"SNumPy Vector Example: \" + str(SNumPy.get(lst_7,(0,3))))\n",
    "\n",
    "print()\n",
    "\n",
    "# comparison with NumPy\n",
    "print(\"NumPy Matrix Example: \" + str(np.array([[7,7,7,7],[5,2,8,9],[4,1,9,22],[2,3,1,13]]).item(2,3)))\n",
    "print(\"NumPy Vector Example: \" + str(np.array([1,2,3,4]).item(3,)))"
   ]
  },
  {
   "cell_type": "code",
   "execution_count": 8,
   "id": "49909d83",
   "metadata": {},
   "outputs": [
    {
     "name": "stdout",
     "output_type": "stream",
     "text": [
      "SNumPy Matrix Example: [[12, 9, 15, 16], [9, 3, 17, 31], [6, 4, 10, 35]]\n",
      "SNumPy Vector Example: [4, 12, 5, 11, 6, 10, 7, 9, 8]\n",
      "\n",
      "NumPy Matrix Example:\n",
      "[[12  9 15 16]\n",
      " [ 9  3 17 31]\n",
      " [ 6  4 10 35]]\n",
      "NumPy Vector Example:\n",
      "[ 4 12  5 11  6 10  7  9  8]\n"
     ]
    }
   ],
   "source": [
    "# Add\n",
    "\n",
    "lst7 = [[7,7,7,7],[5,2,8,9],[4,1,9,22]]\n",
    "lst8 = [[5,2,8,9],[4,1,9,22],[2,3,1,13]]\n",
    "\n",
    "lst9 = [1,9,2,8,3,7,4,6,5]\n",
    "lst10 = [3,3,3,3,3,3,3,3,3]\n",
    "\n",
    "# Example: Matrices\n",
    "print(\"SNumPy Matrix Example: \" + str(SNumPy.add(lst7,lst8)))\n",
    "\n",
    "# Example: Vectors\n",
    "print(\"SNumPy Vector Example: \" + str(SNumPy.add(lst9,lst10)))\n",
    "\n",
    "print()\n",
    "\n",
    "# comparison with NumPy\n",
    "print(\"NumPy Matrix Example:\")\n",
    "print(np.add(lst7,lst8))\n",
    "print(\"NumPy Vector Example:\")\n",
    "print(np.add(lst9,lst10))"
   ]
  },
  {
   "cell_type": "code",
   "execution_count": 9,
   "id": "d04d68fc",
   "metadata": {},
   "outputs": [
    {
     "name": "stdout",
     "output_type": "stream",
     "text": [
      "SNumPy Matrix Example: [[2, 5, -1, -2], [-1, 0, -2, -16], [3, -1, 7, -4], [-5, -3, 8, 20]]\n",
      "SNumPy Vector Example: [-2, 6, -1, 5, 0, 4, 1, 3, 2, 6, 3, 5]\n",
      "\n",
      "NumPy Matrix Example:\n",
      "[[  2   5  -1  -2]\n",
      " [ -1   0  -2 -16]\n",
      " [  3  -1   7  -4]\n",
      " [ -5  -3   8  20]]\n",
      "NumPy Vector Example:\n",
      "[-2  6 -1  5  0  4  1  3  2  6  3  5]\n"
     ]
    }
   ],
   "source": [
    "# Subtract\n",
    "\n",
    "lst11 = [[7,7,7,7],[3,1,7,6],[5,2,8,9],[4,1,9,22]]\n",
    "lst12 = [[5,2,8,9],[4,1,9,22],[2,3,1,13],[9,4,1,2]]\n",
    "\n",
    "lst13 = [1,9,2,8,3,7,4,6,5,7,8,9]\n",
    "lst14 = [3,3,3,3,3,3,3,3,3,1,5,4]\n",
    "\n",
    "# Example: Matrices\n",
    "print(\"SNumPy Matrix Example: \" + str(SNumPy.subtract(lst11,lst12)))\n",
    "\n",
    "# Example: Vectors\n",
    "print(\"SNumPy Vector Example: \" + str(SNumPy.subtract(lst13,lst14)))\n",
    "\n",
    "print()\n",
    "\n",
    "# comparison with NumPy\n",
    "print(\"NumPy Matrix Example:\")\n",
    "print(np.subtract(lst11,lst12))\n",
    "print(\"NumPy Vector Example:\")\n",
    "print(np.subtract(lst13,lst14))"
   ]
  },
  {
   "cell_type": "code",
   "execution_count": 10,
   "id": "8fe1d02e",
   "metadata": {
    "scrolled": true
   },
   "outputs": [
    {
     "name": "stdout",
     "output_type": "stream",
     "text": [
      "SNumPy Vectors Example: 6\n",
      "SNumPy Matrices (same dimensions) Example: [[15, 9], [39, 30]]\n",
      "SNumPy Matrices (diff. dimensions) Example: [[6, 7, 10], [21, 22, 31]]\n",
      "SNumPy Matrix - Vector Example: [6, 18]\n",
      "SNumPy Vector - Matrix Example: [10, 14]\n",
      "\n",
      "NumPy Vectors Example: 6\n",
      "NumPy Matrices (same dimensions) Example:\n",
      "[[15  9]\n",
      " [39 30]]\n",
      "NumPy Matrices (diff. dimensions) Example:\n",
      "[[ 6  7 10]\n",
      " [21 22 31]]\n",
      "NumPy Matrix - Vector Example:\n",
      "[ 6 18]\n",
      "NumPy Vector - Matrix Example:\n",
      "[10 14]\n"
     ]
    }
   ],
   "source": [
    "# Dotproduct\n",
    "\n",
    "lst15 = [2,2]\n",
    "lst16 = [1,2]\n",
    "\n",
    "lst17 = [[1,2],[4,5]]\n",
    "lst18 = [[1,5],[7,2]]\n",
    "lst19 = [[4,3,4],[1,2,3]]\n",
    "\n",
    "\n",
    "# both arrays are vectors\n",
    "print(\"SNumPy Vectors Example: \" + str(SNumPy.dotproduct(lst15,lst16)))\n",
    "\n",
    "# both arrays are matrices with the same dimensions \n",
    "print(\"SNumPy Matrices (same dimensions) Example: \" + str(SNumPy.dotproduct(lst17,lst18)))\n",
    "\n",
    "# both arrays are matrices, but with different dimensions (however, fulfilling the shape requirements for dot product)\n",
    "print(\"SNumPy Matrices (diff. dimensions) Example: \" + str(SNumPy.dotproduct(lst17,lst19)))\n",
    "\n",
    "# mixed arrays (matrix, vector)\n",
    "print(\"SNumPy Matrix - Vector Example: \" + str(SNumPy.dotproduct(lst17,lst15)))\n",
    "\n",
    "# mixed arrays (vector, matrix)\n",
    "print(\"SNumPy Vector - Matrix Example: \" + str(SNumPy.dotproduct(lst15,lst17)))\n",
    "\n",
    "print()\n",
    "\n",
    "# comparison with NumPy\n",
    "print(\"NumPy Vectors Example: \" + str(np.dot(lst15,lst16)))\n",
    "print(\"NumPy Matrices (same dimensions) Example:\")\n",
    "print(np.dot(lst17,lst18))\n",
    "print(\"NumPy Matrices (diff. dimensions) Example:\")\n",
    "print(np.dot(lst17,lst19))\n",
    "print(\"NumPy Matrix - Vector Example:\")\n",
    "print(np.dot(lst17,lst15)) \n",
    "print(\"NumPy Vector - Matrix Example:\")\n",
    "print(np.dot(lst15,lst17)) "
   ]
  },
  {
   "cell_type": "markdown",
   "id": "09bd97b6",
   "metadata": {},
   "source": [
    "### Test error handling"
   ]
  },
  {
   "cell_type": "code",
   "execution_count": 11,
   "id": "7db13b8c",
   "metadata": {
    "scrolled": false
   },
   "outputs": [
    {
     "ename": "ValueError",
     "evalue": "The array cannot be reshaped with the given shape because its elements cannot be equally distributed over the specified number of rows.",
     "output_type": "error",
     "traceback": [
      "\u001b[1;31m---------------------------------------------------------------------------\u001b[0m",
      "\u001b[1;31mValueError\u001b[0m                                Traceback (most recent call last)",
      "Input \u001b[1;32mIn [11]\u001b[0m, in \u001b[0;36m<cell line: 7>\u001b[1;34m()\u001b[0m\n\u001b[0;32m      3\u001b[0m exc_1 \u001b[38;5;241m=\u001b[39m [\u001b[38;5;241m1\u001b[39m,\u001b[38;5;241m2\u001b[39m,\u001b[38;5;241m3\u001b[39m,\u001b[38;5;241m4\u001b[39m,\u001b[38;5;241m5\u001b[39m,\u001b[38;5;241m6\u001b[39m,\u001b[38;5;241m7\u001b[39m,\u001b[38;5;241m8\u001b[39m,\u001b[38;5;241m9\u001b[39m,\u001b[38;5;241m10\u001b[39m]\n\u001b[0;32m      5\u001b[0m \u001b[38;5;66;03m# Case 1: Desired matrix has different number of elements than the input array\u001b[39;00m\n\u001b[1;32m----> 7\u001b[0m \u001b[38;5;28mprint\u001b[39m(\u001b[43mSNumPy\u001b[49m\u001b[38;5;241;43m.\u001b[39;49m\u001b[43mreshape\u001b[49m\u001b[43m(\u001b[49m\u001b[43mexc_1\u001b[49m\u001b[43m,\u001b[49m\u001b[43m(\u001b[49m\u001b[38;5;241;43m4\u001b[39;49m\u001b[43m,\u001b[49m\u001b[38;5;241;43m3\u001b[39;49m\u001b[43m)\u001b[49m\u001b[43m)\u001b[49m)\n",
      "Input \u001b[1;32mIn [1]\u001b[0m, in \u001b[0;36mSNumPy.reshape\u001b[1;34m(array, shape)\u001b[0m\n\u001b[0;32m     48\u001b[0m \u001b[38;5;66;03m# check if given array (list) can be reshaped with the specified number of rows / columns and raise a ValueError if not\u001b[39;00m\n\u001b[0;32m     49\u001b[0m \u001b[38;5;28;01melif\u001b[39;00m \u001b[38;5;28mlen\u001b[39m(array) \u001b[38;5;241m!=\u001b[39m shape[\u001b[38;5;241m0\u001b[39m] \u001b[38;5;241m*\u001b[39m shape[\u001b[38;5;241m1\u001b[39m]:\n\u001b[1;32m---> 50\u001b[0m     \u001b[38;5;28;01mraise\u001b[39;00m \u001b[38;5;167;01mValueError\u001b[39;00m(\u001b[38;5;124m\"\u001b[39m\u001b[38;5;124mThe array cannot be reshaped with the given shape because its elements cannot be equally distributed over the specified number of rows.\u001b[39m\u001b[38;5;124m\"\u001b[39m)\n\u001b[0;32m     52\u001b[0m \u001b[38;5;66;03m# create empty list for the result\u001b[39;00m\n\u001b[0;32m     53\u001b[0m \u001b[38;5;28;01melse\u001b[39;00m:\n\u001b[0;32m     54\u001b[0m     result \u001b[38;5;241m=\u001b[39m []\n",
      "\u001b[1;31mValueError\u001b[0m: The array cannot be reshaped with the given shape because its elements cannot be equally distributed over the specified number of rows."
     ]
    }
   ],
   "source": [
    "# reshape\n",
    "\n",
    "exc_1 = [1,2,3,4,5,6,7,8,9,10]\n",
    "\n",
    "# Case 1: Desired matrix has different number of elements than the input array\n",
    "\n",
    "print(SNumPy.reshape(exc_1,(4,3)))"
   ]
  },
  {
   "cell_type": "code",
   "execution_count": 12,
   "id": "b3149e6d",
   "metadata": {},
   "outputs": [
    {
     "ename": "ValueError",
     "evalue": "The desired shape must be entered as tuple in the following format: (rows, columns)",
     "output_type": "error",
     "traceback": [
      "\u001b[1;31m---------------------------------------------------------------------------\u001b[0m",
      "\u001b[1;31mValueError\u001b[0m                                Traceback (most recent call last)",
      "Input \u001b[1;32mIn [12]\u001b[0m, in \u001b[0;36m<cell line: 2>\u001b[1;34m()\u001b[0m\n\u001b[0;32m      1\u001b[0m \u001b[38;5;66;03m# Case 2: Shape not entered in tuple form\u001b[39;00m\n\u001b[1;32m----> 2\u001b[0m \u001b[38;5;28mprint\u001b[39m(\u001b[43mSNumPy\u001b[49m\u001b[38;5;241;43m.\u001b[39;49m\u001b[43mreshape\u001b[49m\u001b[43m(\u001b[49m\u001b[43mexc_1\u001b[49m\u001b[43m,\u001b[49m\u001b[43m(\u001b[49m\u001b[38;5;241;43m3\u001b[39;49m\u001b[43m,\u001b[49m\u001b[38;5;241;43m4\u001b[39;49m\u001b[43m,\u001b[49m\u001b[38;5;241;43m5\u001b[39;49m\u001b[43m)\u001b[49m\u001b[43m)\u001b[49m)\n",
      "Input \u001b[1;32mIn [1]\u001b[0m, in \u001b[0;36mSNumPy.reshape\u001b[1;34m(array, shape)\u001b[0m\n\u001b[0;32m     44\u001b[0m \u001b[38;5;66;03m# check if shape is entered as tuple and raise a ValueError if not\u001b[39;00m\n\u001b[0;32m     45\u001b[0m \u001b[38;5;28;01mif\u001b[39;00m \u001b[38;5;28mlen\u001b[39m(shape) \u001b[38;5;241m!=\u001b[39m \u001b[38;5;241m2\u001b[39m:\n\u001b[1;32m---> 46\u001b[0m     \u001b[38;5;28;01mraise\u001b[39;00m \u001b[38;5;167;01mValueError\u001b[39;00m(\u001b[38;5;124m\"\u001b[39m\u001b[38;5;124mThe desired shape must be entered as tuple in the following format: (rows, columns)\u001b[39m\u001b[38;5;124m\"\u001b[39m)\n\u001b[0;32m     48\u001b[0m \u001b[38;5;66;03m# check if given array (list) can be reshaped with the specified number of rows / columns and raise a ValueError if not\u001b[39;00m\n\u001b[0;32m     49\u001b[0m \u001b[38;5;28;01melif\u001b[39;00m \u001b[38;5;28mlen\u001b[39m(array) \u001b[38;5;241m!=\u001b[39m shape[\u001b[38;5;241m0\u001b[39m] \u001b[38;5;241m*\u001b[39m shape[\u001b[38;5;241m1\u001b[39m]:\n",
      "\u001b[1;31mValueError\u001b[0m: The desired shape must be entered as tuple in the following format: (rows, columns)"
     ]
    }
   ],
   "source": [
    "# Case 2: Shape not entered in tuple form\n",
    "print(SNumPy.reshape(exc_1,(3,4,5)))"
   ]
  },
  {
   "cell_type": "code",
   "execution_count": 13,
   "id": "dac155e9",
   "metadata": {},
   "outputs": [
    {
     "ename": "ValueError",
     "evalue": "The matrices do not have the same number of rows and thus cannot be appended.",
     "output_type": "error",
     "traceback": [
      "\u001b[1;31m---------------------------------------------------------------------------\u001b[0m",
      "\u001b[1;31mValueError\u001b[0m                                Traceback (most recent call last)",
      "Input \u001b[1;32mIn [13]\u001b[0m, in \u001b[0;36m<cell line: 10>\u001b[1;34m()\u001b[0m\n\u001b[0;32m      7\u001b[0m exc_5 \u001b[38;5;241m=\u001b[39m [\u001b[38;5;241m1\u001b[39m,\u001b[38;5;241m2\u001b[39m,\u001b[38;5;241m3\u001b[39m]\n\u001b[0;32m      9\u001b[0m \u001b[38;5;66;03m# Case 1: Different matrix dimensions\u001b[39;00m\n\u001b[1;32m---> 10\u001b[0m \u001b[38;5;28mprint\u001b[39m(\u001b[43mSNumPy\u001b[49m\u001b[38;5;241;43m.\u001b[39;49m\u001b[43mappend\u001b[49m\u001b[43m(\u001b[49m\u001b[43mexc_2\u001b[49m\u001b[43m,\u001b[49m\u001b[43mexc_3\u001b[49m\u001b[43m)\u001b[49m)\n",
      "Input \u001b[1;32mIn [1]\u001b[0m, in \u001b[0;36mSNumPy.append\u001b[1;34m(array1, array2)\u001b[0m\n\u001b[0;32m    117\u001b[0m         \u001b[38;5;28;01mreturn\u001b[39;00m new_matrix\n\u001b[0;32m    119\u001b[0m     \u001b[38;5;66;03m# raise a ValueError if the inserted arrays do not have the same dimension        \u001b[39;00m\n\u001b[0;32m    120\u001b[0m     \u001b[38;5;28;01melse\u001b[39;00m:\n\u001b[1;32m--> 121\u001b[0m         \u001b[38;5;28;01mraise\u001b[39;00m \u001b[38;5;167;01mValueError\u001b[39;00m(\u001b[38;5;124m\"\u001b[39m\u001b[38;5;124mThe matrices do not have the same number of rows and thus cannot be appended.\u001b[39m\u001b[38;5;124m\"\u001b[39m)\n\u001b[0;32m    124\u001b[0m \u001b[38;5;66;03m# if both arrays are vectors\u001b[39;00m\n\u001b[0;32m    125\u001b[0m \u001b[38;5;66;03m# check if for each array the first element is an integer (i.e. the array is a simple list and therefore a vector)\u001b[39;00m\n\u001b[0;32m    126\u001b[0m \u001b[38;5;28;01melif\u001b[39;00m \u001b[38;5;28misinstance\u001b[39m(array1[\u001b[38;5;241m0\u001b[39m], \u001b[38;5;28mint\u001b[39m) \u001b[38;5;129;01mis\u001b[39;00m \u001b[38;5;28;01mTrue\u001b[39;00m \u001b[38;5;129;01mand\u001b[39;00m \u001b[38;5;28misinstance\u001b[39m(array2[\u001b[38;5;241m0\u001b[39m], \u001b[38;5;28mint\u001b[39m) \u001b[38;5;129;01mis\u001b[39;00m \u001b[38;5;28;01mTrue\u001b[39;00m:\n\u001b[0;32m    127\u001b[0m      \n\u001b[0;32m    128\u001b[0m     \u001b[38;5;66;03m# The lists are then concatenated\u001b[39;00m\n",
      "\u001b[1;31mValueError\u001b[0m: The matrices do not have the same number of rows and thus cannot be appended."
     ]
    }
   ],
   "source": [
    "# append\n",
    "\n",
    "exc_2 = [[2,3,4],[1,5,7],[4,8,7]]\n",
    "exc_3 = [[1,5,7],[4,8,7]]\n",
    "\n",
    "exc_4 = [1,2,3,4,5]\n",
    "exc_5 = [1,2,3]\n",
    "\n",
    "# Case 1: Different matrix dimensions\n",
    "print(SNumPy.append(exc_2,exc_3))"
   ]
  },
  {
   "cell_type": "code",
   "execution_count": 14,
   "id": "3ed0b4e1",
   "metadata": {},
   "outputs": [
    {
     "ename": "ValueError",
     "evalue": "A matrix cannot be appended to a vector and vice versa.",
     "output_type": "error",
     "traceback": [
      "\u001b[1;31m---------------------------------------------------------------------------\u001b[0m",
      "\u001b[1;31mValueError\u001b[0m                                Traceback (most recent call last)",
      "Input \u001b[1;32mIn [14]\u001b[0m, in \u001b[0;36m<cell line: 2>\u001b[1;34m()\u001b[0m\n\u001b[0;32m      1\u001b[0m \u001b[38;5;66;03m# Case 2: Trying to append matrix and vector\u001b[39;00m\n\u001b[1;32m----> 2\u001b[0m \u001b[38;5;28mprint\u001b[39m(\u001b[43mSNumPy\u001b[49m\u001b[38;5;241;43m.\u001b[39;49m\u001b[43mappend\u001b[49m\u001b[43m(\u001b[49m\u001b[43mexc_2\u001b[49m\u001b[43m,\u001b[49m\u001b[43mexc_4\u001b[49m\u001b[43m)\u001b[49m)\n",
      "Input \u001b[1;32mIn [1]\u001b[0m, in \u001b[0;36mSNumPy.append\u001b[1;34m(array1, array2)\u001b[0m\n\u001b[0;32m    130\u001b[0m     \u001b[38;5;28;01mreturn\u001b[39;00m new_vector\n\u001b[0;32m    132\u001b[0m \u001b[38;5;66;03m# if trying to append a matrix to a vector and vice versa\u001b[39;00m\n\u001b[0;32m    133\u001b[0m \u001b[38;5;28;01melse\u001b[39;00m:\n\u001b[1;32m--> 134\u001b[0m     \u001b[38;5;28;01mraise\u001b[39;00m \u001b[38;5;167;01mValueError\u001b[39;00m(\u001b[38;5;124m\"\u001b[39m\u001b[38;5;124mA matrix cannot be appended to a vector and vice versa.\u001b[39m\u001b[38;5;124m\"\u001b[39m)\n",
      "\u001b[1;31mValueError\u001b[0m: A matrix cannot be appended to a vector and vice versa."
     ]
    }
   ],
   "source": [
    "# Case 2: Trying to append matrix and vector\n",
    "print(SNumPy.append(exc_2,exc_4))"
   ]
  },
  {
   "cell_type": "code",
   "execution_count": 15,
   "id": "d97bfad2",
   "metadata": {},
   "outputs": [
    {
     "ename": "IndexError",
     "evalue": "Out of matrix dimension.",
     "output_type": "error",
     "traceback": [
      "\u001b[1;31m---------------------------------------------------------------------------\u001b[0m",
      "\u001b[1;31mIndexError\u001b[0m                                Traceback (most recent call last)",
      "Input \u001b[1;32mIn [15]\u001b[0m, in \u001b[0;36m<cell line: 7>\u001b[1;34m()\u001b[0m\n\u001b[0;32m      4\u001b[0m exc_7 \u001b[38;5;241m=\u001b[39m [\u001b[38;5;241m1\u001b[39m,\u001b[38;5;241m2\u001b[39m,\u001b[38;5;241m3\u001b[39m,\u001b[38;5;241m4\u001b[39m,\u001b[38;5;241m5\u001b[39m,\u001b[38;5;241m6\u001b[39m]\n\u001b[0;32m      6\u001b[0m \u001b[38;5;66;03m# Case 1: Out of matrix dimension\u001b[39;00m\n\u001b[1;32m----> 7\u001b[0m \u001b[38;5;28mprint\u001b[39m(\u001b[43mSNumPy\u001b[49m\u001b[38;5;241;43m.\u001b[39;49m\u001b[43mget\u001b[49m\u001b[43m(\u001b[49m\u001b[43mexc_6\u001b[49m\u001b[43m,\u001b[49m\u001b[43m(\u001b[49m\u001b[38;5;241;43m3\u001b[39;49m\u001b[43m,\u001b[49m\u001b[38;5;241;43m1\u001b[39;49m\u001b[43m)\u001b[49m\u001b[43m)\u001b[49m)\n",
      "Input \u001b[1;32mIn [1]\u001b[0m, in \u001b[0;36mSNumPy.get\u001b[1;34m(array, shape)\u001b[0m\n\u001b[0;32m    149\u001b[0m \u001b[38;5;28;01mif\u001b[39;00m \u001b[38;5;28misinstance\u001b[39m(array[\u001b[38;5;241m0\u001b[39m], \u001b[38;5;28mlist\u001b[39m) \u001b[38;5;129;01mis\u001b[39;00m \u001b[38;5;28;01mTrue\u001b[39;00m:\n\u001b[0;32m    150\u001b[0m     \n\u001b[0;32m    151\u001b[0m     \u001b[38;5;66;03m# raise an IndexError if either the row number or column number is out of the matrix dimension\u001b[39;00m\n\u001b[0;32m    152\u001b[0m     \u001b[38;5;28;01mif\u001b[39;00m shape[\u001b[38;5;241m0\u001b[39m] \u001b[38;5;241m>\u001b[39m\u001b[38;5;241m=\u001b[39m \u001b[38;5;28mlen\u001b[39m(array) \u001b[38;5;129;01mor\u001b[39;00m shape[\u001b[38;5;241m1\u001b[39m] \u001b[38;5;241m>\u001b[39m\u001b[38;5;241m=\u001b[39m \u001b[38;5;28mlen\u001b[39m(array[\u001b[38;5;241m0\u001b[39m]):\n\u001b[1;32m--> 153\u001b[0m         \u001b[38;5;28;01mraise\u001b[39;00m \u001b[38;5;167;01mIndexError\u001b[39;00m(\u001b[38;5;124m\"\u001b[39m\u001b[38;5;124mOut of matrix dimension.\u001b[39m\u001b[38;5;124m\"\u001b[39m)\n\u001b[0;32m    154\u001b[0m     \u001b[38;5;28;01melse\u001b[39;00m:\n\u001b[0;32m    155\u001b[0m         \u001b[38;5;66;03m# subset list with the specified row and column number\u001b[39;00m\n\u001b[0;32m    156\u001b[0m         \u001b[38;5;28;01mreturn\u001b[39;00m array[shape[\u001b[38;5;241m0\u001b[39m]][shape[\u001b[38;5;241m1\u001b[39m]]\n",
      "\u001b[1;31mIndexError\u001b[0m: Out of matrix dimension."
     ]
    }
   ],
   "source": [
    "# get\n",
    "\n",
    "exc_6 = [[2,2,2],[3,3,3],[4,4,4]]\n",
    "exc_7 = [1,2,3,4,5,6]\n",
    "\n",
    "# Case 1: Out of matrix dimension\n",
    "print(SNumPy.get(exc_6,(3,1)))"
   ]
  },
  {
   "cell_type": "code",
   "execution_count": 16,
   "id": "aa855b60",
   "metadata": {},
   "outputs": [
    {
     "ename": "IndexError",
     "evalue": "Out of vector dimension.",
     "output_type": "error",
     "traceback": [
      "\u001b[1;31m---------------------------------------------------------------------------\u001b[0m",
      "\u001b[1;31mIndexError\u001b[0m                                Traceback (most recent call last)",
      "Input \u001b[1;32mIn [16]\u001b[0m, in \u001b[0;36m<cell line: 2>\u001b[1;34m()\u001b[0m\n\u001b[0;32m      1\u001b[0m \u001b[38;5;66;03m# Case 2: Out of vector dimension\u001b[39;00m\n\u001b[1;32m----> 2\u001b[0m \u001b[38;5;28mprint\u001b[39m(\u001b[43mSNumPy\u001b[49m\u001b[38;5;241;43m.\u001b[39;49m\u001b[43mget\u001b[49m\u001b[43m(\u001b[49m\u001b[43mexc_7\u001b[49m\u001b[43m,\u001b[49m\u001b[43m(\u001b[49m\u001b[38;5;241;43m0\u001b[39;49m\u001b[43m,\u001b[49m\u001b[38;5;241;43m6\u001b[39;49m\u001b[43m)\u001b[49m\u001b[43m)\u001b[49m)\n",
      "Input \u001b[1;32mIn [1]\u001b[0m, in \u001b[0;36mSNumPy.get\u001b[1;34m(array, shape)\u001b[0m\n\u001b[0;32m    159\u001b[0m \u001b[38;5;28;01melif\u001b[39;00m \u001b[38;5;28misinstance\u001b[39m(array[\u001b[38;5;241m0\u001b[39m], \u001b[38;5;28mint\u001b[39m) \u001b[38;5;129;01mis\u001b[39;00m \u001b[38;5;28;01mTrue\u001b[39;00m:\n\u001b[0;32m    160\u001b[0m     \n\u001b[0;32m    161\u001b[0m     \u001b[38;5;66;03m# raise an IndexError if the requested value is not within the length of the vector\u001b[39;00m\n\u001b[0;32m    162\u001b[0m     \u001b[38;5;28;01mif\u001b[39;00m shape[\u001b[38;5;241m1\u001b[39m] \u001b[38;5;241m>\u001b[39m\u001b[38;5;241m=\u001b[39m \u001b[38;5;28mlen\u001b[39m(array):\n\u001b[1;32m--> 163\u001b[0m         \u001b[38;5;28;01mraise\u001b[39;00m \u001b[38;5;167;01mIndexError\u001b[39;00m(\u001b[38;5;124m\"\u001b[39m\u001b[38;5;124mOut of vector dimension.\u001b[39m\u001b[38;5;124m\"\u001b[39m)\n\u001b[0;32m    164\u001b[0m     \u001b[38;5;28;01melif\u001b[39;00m shape[\u001b[38;5;241m0\u001b[39m] \u001b[38;5;241m!=\u001b[39m \u001b[38;5;241m0\u001b[39m:\n\u001b[0;32m    165\u001b[0m         \u001b[38;5;28;01mraise\u001b[39;00m \u001b[38;5;167;01mIndexError\u001b[39;00m(\u001b[38;5;124m\"\u001b[39m\u001b[38;5;124mThe number of rows for the vector must be one which translates to 0 due to zero indexing.\u001b[39m\u001b[38;5;124m\"\u001b[39m)\n",
      "\u001b[1;31mIndexError\u001b[0m: Out of vector dimension."
     ]
    }
   ],
   "source": [
    "# Case 2: Out of vector dimension\n",
    "print(SNumPy.get(exc_7,(0,6)))"
   ]
  },
  {
   "cell_type": "code",
   "execution_count": 17,
   "id": "56ab6d0f",
   "metadata": {},
   "outputs": [
    {
     "ename": "ValueError",
     "evalue": "The arrays do not have the same dimension and thus cannot be added.",
     "output_type": "error",
     "traceback": [
      "\u001b[1;31m---------------------------------------------------------------------------\u001b[0m",
      "\u001b[1;31mValueError\u001b[0m                                Traceback (most recent call last)",
      "Input \u001b[1;32mIn [17]\u001b[0m, in \u001b[0;36m<cell line: 10>\u001b[1;34m()\u001b[0m\n\u001b[0;32m      7\u001b[0m exc_11 \u001b[38;5;241m=\u001b[39m [\u001b[38;5;241m1\u001b[39m,\u001b[38;5;241m2\u001b[39m,\u001b[38;5;241m3\u001b[39m,\u001b[38;5;241m4\u001b[39m,\u001b[38;5;241m5\u001b[39m]\n\u001b[0;32m      9\u001b[0m \u001b[38;5;66;03m# Case 1: Matrices do not have the same dimension\u001b[39;00m\n\u001b[1;32m---> 10\u001b[0m \u001b[38;5;28mprint\u001b[39m(\u001b[43mSNumPy\u001b[49m\u001b[38;5;241;43m.\u001b[39;49m\u001b[43madd\u001b[49m\u001b[43m(\u001b[49m\u001b[43mexc_8\u001b[49m\u001b[43m,\u001b[49m\u001b[43mexc_9\u001b[49m\u001b[43m)\u001b[49m)\n",
      "Input \u001b[1;32mIn [1]\u001b[0m, in \u001b[0;36mSNumPy.add\u001b[1;34m(array1, array2)\u001b[0m\n\u001b[0;32m    209\u001b[0m     \u001b[38;5;28;01mreturn\u001b[39;00m new_vector\n\u001b[0;32m    212\u001b[0m \u001b[38;5;28;01melse\u001b[39;00m: \n\u001b[0;32m    213\u001b[0m     \u001b[38;5;66;03m# raise a ValueError if the arrays do not have the same dimension and thus cannot be added\u001b[39;00m\n\u001b[1;32m--> 214\u001b[0m     \u001b[38;5;28;01mraise\u001b[39;00m \u001b[38;5;167;01mValueError\u001b[39;00m(\u001b[38;5;124m\"\u001b[39m\u001b[38;5;124mThe arrays do not have the same dimension and thus cannot be added.\u001b[39m\u001b[38;5;124m\"\u001b[39m)\n",
      "\u001b[1;31mValueError\u001b[0m: The arrays do not have the same dimension and thus cannot be added."
     ]
    }
   ],
   "source": [
    "# add\n",
    "\n",
    "exc_8 = [[2,3,4],[2,3,4],[6,7,8]]\n",
    "exc_9 = [[2,3,4],[2,3,4]]\n",
    "\n",
    "exc_10 = [1,2,3,4]\n",
    "exc_11 = [1,2,3,4,5]\n",
    "\n",
    "# Case 1: Matrices do not have the same dimension\n",
    "print(SNumPy.add(exc_8,exc_9))"
   ]
  },
  {
   "cell_type": "code",
   "execution_count": 18,
   "id": "7d6336b2",
   "metadata": {},
   "outputs": [
    {
     "ename": "ValueError",
     "evalue": "The arrays do not have the same dimension and thus cannot be added.",
     "output_type": "error",
     "traceback": [
      "\u001b[1;31m---------------------------------------------------------------------------\u001b[0m",
      "\u001b[1;31mValueError\u001b[0m                                Traceback (most recent call last)",
      "Input \u001b[1;32mIn [18]\u001b[0m, in \u001b[0;36m<cell line: 2>\u001b[1;34m()\u001b[0m\n\u001b[0;32m      1\u001b[0m \u001b[38;5;66;03m# Case 2: Vectors do not have the same dimension\u001b[39;00m\n\u001b[1;32m----> 2\u001b[0m \u001b[38;5;28mprint\u001b[39m(\u001b[43mSNumPy\u001b[49m\u001b[38;5;241;43m.\u001b[39;49m\u001b[43madd\u001b[49m\u001b[43m(\u001b[49m\u001b[43mexc_10\u001b[49m\u001b[43m,\u001b[49m\u001b[43mexc_11\u001b[49m\u001b[43m)\u001b[49m)\n",
      "Input \u001b[1;32mIn [1]\u001b[0m, in \u001b[0;36mSNumPy.add\u001b[1;34m(array1, array2)\u001b[0m\n\u001b[0;32m    209\u001b[0m     \u001b[38;5;28;01mreturn\u001b[39;00m new_vector\n\u001b[0;32m    212\u001b[0m \u001b[38;5;28;01melse\u001b[39;00m: \n\u001b[0;32m    213\u001b[0m     \u001b[38;5;66;03m# raise a ValueError if the arrays do not have the same dimension and thus cannot be added\u001b[39;00m\n\u001b[1;32m--> 214\u001b[0m     \u001b[38;5;28;01mraise\u001b[39;00m \u001b[38;5;167;01mValueError\u001b[39;00m(\u001b[38;5;124m\"\u001b[39m\u001b[38;5;124mThe arrays do not have the same dimension and thus cannot be added.\u001b[39m\u001b[38;5;124m\"\u001b[39m)\n",
      "\u001b[1;31mValueError\u001b[0m: The arrays do not have the same dimension and thus cannot be added."
     ]
    }
   ],
   "source": [
    "# Case 2: Vectors do not have the same dimension\n",
    "print(SNumPy.add(exc_10,exc_11))"
   ]
  },
  {
   "cell_type": "code",
   "execution_count": 19,
   "id": "eb940e65",
   "metadata": {
    "scrolled": true
   },
   "outputs": [
    {
     "ename": "ValueError",
     "evalue": "The arrays do not have the same dimension and thus cannot be added.",
     "output_type": "error",
     "traceback": [
      "\u001b[1;31m---------------------------------------------------------------------------\u001b[0m",
      "\u001b[1;31mValueError\u001b[0m                                Traceback (most recent call last)",
      "Input \u001b[1;32mIn [19]\u001b[0m, in \u001b[0;36m<cell line: 2>\u001b[1;34m()\u001b[0m\n\u001b[0;32m      1\u001b[0m \u001b[38;5;66;03m# Case 3: Trying to add matrix and vector\u001b[39;00m\n\u001b[1;32m----> 2\u001b[0m \u001b[38;5;28mprint\u001b[39m(\u001b[43mSNumPy\u001b[49m\u001b[38;5;241;43m.\u001b[39;49m\u001b[43madd\u001b[49m\u001b[43m(\u001b[49m\u001b[43mexc_8\u001b[49m\u001b[43m,\u001b[49m\u001b[43mexc_10\u001b[49m\u001b[43m)\u001b[49m)\n",
      "Input \u001b[1;32mIn [1]\u001b[0m, in \u001b[0;36mSNumPy.add\u001b[1;34m(array1, array2)\u001b[0m\n\u001b[0;32m    209\u001b[0m     \u001b[38;5;28;01mreturn\u001b[39;00m new_vector\n\u001b[0;32m    212\u001b[0m \u001b[38;5;28;01melse\u001b[39;00m: \n\u001b[0;32m    213\u001b[0m     \u001b[38;5;66;03m# raise a ValueError if the arrays do not have the same dimension and thus cannot be added\u001b[39;00m\n\u001b[1;32m--> 214\u001b[0m     \u001b[38;5;28;01mraise\u001b[39;00m \u001b[38;5;167;01mValueError\u001b[39;00m(\u001b[38;5;124m\"\u001b[39m\u001b[38;5;124mThe arrays do not have the same dimension and thus cannot be added.\u001b[39m\u001b[38;5;124m\"\u001b[39m)\n",
      "\u001b[1;31mValueError\u001b[0m: The arrays do not have the same dimension and thus cannot be added."
     ]
    }
   ],
   "source": [
    "# Case 3: Trying to add matrix and vector\n",
    "print(SNumPy.add(exc_8,exc_10))"
   ]
  },
  {
   "cell_type": "code",
   "execution_count": 20,
   "id": "abbf0ac7",
   "metadata": {},
   "outputs": [
    {
     "ename": "ValueError",
     "evalue": "The arrays do not have the same dimension and thus cannot be subtracted.",
     "output_type": "error",
     "traceback": [
      "\u001b[1;31m---------------------------------------------------------------------------\u001b[0m",
      "\u001b[1;31mValueError\u001b[0m                                Traceback (most recent call last)",
      "Input \u001b[1;32mIn [20]\u001b[0m, in \u001b[0;36m<cell line: 10>\u001b[1;34m()\u001b[0m\n\u001b[0;32m      7\u001b[0m exc_11 \u001b[38;5;241m=\u001b[39m [\u001b[38;5;241m1\u001b[39m,\u001b[38;5;241m2\u001b[39m,\u001b[38;5;241m3\u001b[39m,\u001b[38;5;241m4\u001b[39m,\u001b[38;5;241m5\u001b[39m]\n\u001b[0;32m      9\u001b[0m \u001b[38;5;66;03m# Case 1: Matrices do not have the same dimension\u001b[39;00m\n\u001b[1;32m---> 10\u001b[0m \u001b[38;5;28mprint\u001b[39m(\u001b[43mSNumPy\u001b[49m\u001b[38;5;241;43m.\u001b[39;49m\u001b[43msubtract\u001b[49m\u001b[43m(\u001b[49m\u001b[43mexc_8\u001b[49m\u001b[43m,\u001b[49m\u001b[43mexc_9\u001b[49m\u001b[43m)\u001b[49m)\n",
      "Input \u001b[1;32mIn [1]\u001b[0m, in \u001b[0;36mSNumPy.subtract\u001b[1;34m(array1, array2)\u001b[0m\n\u001b[0;32m    253\u001b[0m     \u001b[38;5;28;01mreturn\u001b[39;00m new_vector\n\u001b[0;32m    255\u001b[0m \u001b[38;5;28;01melse\u001b[39;00m: \n\u001b[0;32m    256\u001b[0m     \u001b[38;5;66;03m# raise a ValueError if the arrays do not have the same dimension and thus cannot be subtracted\u001b[39;00m\n\u001b[1;32m--> 257\u001b[0m     \u001b[38;5;28;01mraise\u001b[39;00m \u001b[38;5;167;01mValueError\u001b[39;00m(\u001b[38;5;124m\"\u001b[39m\u001b[38;5;124mThe arrays do not have the same dimension and thus cannot be subtracted.\u001b[39m\u001b[38;5;124m\"\u001b[39m)\n",
      "\u001b[1;31mValueError\u001b[0m: The arrays do not have the same dimension and thus cannot be subtracted."
     ]
    }
   ],
   "source": [
    "# subtract\n",
    "\n",
    "exc_8 = [[2,3,4],[2,3,4],[6,7,8]]\n",
    "exc_9 = [[2,3,4],[2,3,4]]\n",
    "\n",
    "exc_10 = [1,2,3,4]\n",
    "exc_11 = [1,2,3,4,5]\n",
    "\n",
    "# Case 1: Matrices do not have the same dimension\n",
    "print(SNumPy.subtract(exc_8,exc_9))"
   ]
  },
  {
   "cell_type": "code",
   "execution_count": 21,
   "id": "5c2684ce",
   "metadata": {},
   "outputs": [
    {
     "ename": "ValueError",
     "evalue": "The arrays do not have the same dimension and thus cannot be subtracted.",
     "output_type": "error",
     "traceback": [
      "\u001b[1;31m---------------------------------------------------------------------------\u001b[0m",
      "\u001b[1;31mValueError\u001b[0m                                Traceback (most recent call last)",
      "Input \u001b[1;32mIn [21]\u001b[0m, in \u001b[0;36m<cell line: 2>\u001b[1;34m()\u001b[0m\n\u001b[0;32m      1\u001b[0m \u001b[38;5;66;03m# Case 2: Vectors do not have the same dimension\u001b[39;00m\n\u001b[1;32m----> 2\u001b[0m \u001b[38;5;28mprint\u001b[39m(\u001b[43mSNumPy\u001b[49m\u001b[38;5;241;43m.\u001b[39;49m\u001b[43msubtract\u001b[49m\u001b[43m(\u001b[49m\u001b[43mexc_10\u001b[49m\u001b[43m,\u001b[49m\u001b[43mexc_11\u001b[49m\u001b[43m)\u001b[49m)\n",
      "Input \u001b[1;32mIn [1]\u001b[0m, in \u001b[0;36mSNumPy.subtract\u001b[1;34m(array1, array2)\u001b[0m\n\u001b[0;32m    253\u001b[0m     \u001b[38;5;28;01mreturn\u001b[39;00m new_vector\n\u001b[0;32m    255\u001b[0m \u001b[38;5;28;01melse\u001b[39;00m: \n\u001b[0;32m    256\u001b[0m     \u001b[38;5;66;03m# raise a ValueError if the arrays do not have the same dimension and thus cannot be subtracted\u001b[39;00m\n\u001b[1;32m--> 257\u001b[0m     \u001b[38;5;28;01mraise\u001b[39;00m \u001b[38;5;167;01mValueError\u001b[39;00m(\u001b[38;5;124m\"\u001b[39m\u001b[38;5;124mThe arrays do not have the same dimension and thus cannot be subtracted.\u001b[39m\u001b[38;5;124m\"\u001b[39m)\n",
      "\u001b[1;31mValueError\u001b[0m: The arrays do not have the same dimension and thus cannot be subtracted."
     ]
    }
   ],
   "source": [
    "# Case 2: Vectors do not have the same dimension\n",
    "print(SNumPy.subtract(exc_10,exc_11))"
   ]
  },
  {
   "cell_type": "code",
   "execution_count": 22,
   "id": "22d5737e",
   "metadata": {},
   "outputs": [
    {
     "ename": "ValueError",
     "evalue": "The arrays do not have the same dimension and thus cannot be subtracted.",
     "output_type": "error",
     "traceback": [
      "\u001b[1;31m---------------------------------------------------------------------------\u001b[0m",
      "\u001b[1;31mValueError\u001b[0m                                Traceback (most recent call last)",
      "Input \u001b[1;32mIn [22]\u001b[0m, in \u001b[0;36m<cell line: 2>\u001b[1;34m()\u001b[0m\n\u001b[0;32m      1\u001b[0m \u001b[38;5;66;03m# Case 3: Trying to subtract matrix and vector\u001b[39;00m\n\u001b[1;32m----> 2\u001b[0m \u001b[38;5;28mprint\u001b[39m(\u001b[43mSNumPy\u001b[49m\u001b[38;5;241;43m.\u001b[39;49m\u001b[43msubtract\u001b[49m\u001b[43m(\u001b[49m\u001b[43mexc_8\u001b[49m\u001b[43m,\u001b[49m\u001b[43mexc_10\u001b[49m\u001b[43m)\u001b[49m)\n",
      "Input \u001b[1;32mIn [1]\u001b[0m, in \u001b[0;36mSNumPy.subtract\u001b[1;34m(array1, array2)\u001b[0m\n\u001b[0;32m    253\u001b[0m     \u001b[38;5;28;01mreturn\u001b[39;00m new_vector\n\u001b[0;32m    255\u001b[0m \u001b[38;5;28;01melse\u001b[39;00m: \n\u001b[0;32m    256\u001b[0m     \u001b[38;5;66;03m# raise a ValueError if the arrays do not have the same dimension and thus cannot be subtracted\u001b[39;00m\n\u001b[1;32m--> 257\u001b[0m     \u001b[38;5;28;01mraise\u001b[39;00m \u001b[38;5;167;01mValueError\u001b[39;00m(\u001b[38;5;124m\"\u001b[39m\u001b[38;5;124mThe arrays do not have the same dimension and thus cannot be subtracted.\u001b[39m\u001b[38;5;124m\"\u001b[39m)\n",
      "\u001b[1;31mValueError\u001b[0m: The arrays do not have the same dimension and thus cannot be subtracted."
     ]
    }
   ],
   "source": [
    "# Case 3: Trying to subtract matrix and vector\n",
    "print(SNumPy.subtract(exc_8,exc_10))"
   ]
  },
  {
   "cell_type": "code",
   "execution_count": 23,
   "id": "8f2e2ed4",
   "metadata": {},
   "outputs": [
    {
     "ename": "ValueError",
     "evalue": "The dot product of the given arrays cannot be calculated. Please check the dimensions.",
     "output_type": "error",
     "traceback": [
      "\u001b[1;31m---------------------------------------------------------------------------\u001b[0m",
      "\u001b[1;31mValueError\u001b[0m                                Traceback (most recent call last)",
      "Input \u001b[1;32mIn [23]\u001b[0m, in \u001b[0;36m<cell line: 11>\u001b[1;34m()\u001b[0m\n\u001b[0;32m      7\u001b[0m exc15 \u001b[38;5;241m=\u001b[39m [[\u001b[38;5;241m1\u001b[39m,\u001b[38;5;241m5\u001b[39m,\u001b[38;5;241m3\u001b[39m],[\u001b[38;5;241m7\u001b[39m,\u001b[38;5;241m2\u001b[39m,\u001b[38;5;241m1\u001b[39m],[\u001b[38;5;241m1\u001b[39m,\u001b[38;5;241m2\u001b[39m,\u001b[38;5;241m1\u001b[39m]]\n\u001b[0;32m     10\u001b[0m \u001b[38;5;66;03m# Case 1: Both arrays are matrices but number of columns of array 1 is not equal to number of rows of array2\u001b[39;00m\n\u001b[1;32m---> 11\u001b[0m \u001b[38;5;28mprint\u001b[39m(\u001b[43mSNumPy\u001b[49m\u001b[38;5;241;43m.\u001b[39;49m\u001b[43mdotproduct\u001b[49m\u001b[43m(\u001b[49m\u001b[43mexc15\u001b[49m\u001b[43m,\u001b[49m\u001b[43mexc14\u001b[49m\u001b[43m)\u001b[49m)\n",
      "Input \u001b[1;32mIn [1]\u001b[0m, in \u001b[0;36mSNumPy.dotproduct\u001b[1;34m(array1, array2)\u001b[0m\n\u001b[0;32m    344\u001b[0m         \u001b[38;5;28;01mreturn\u001b[39;00m result\n\u001b[0;32m    346\u001b[0m     \u001b[38;5;28;01melse\u001b[39;00m:\n\u001b[0;32m    347\u001b[0m         \u001b[38;5;66;03m# raise ValueError for the dimensions\u001b[39;00m\n\u001b[1;32m--> 348\u001b[0m         \u001b[38;5;28;01mraise\u001b[39;00m \u001b[38;5;167;01mValueError\u001b[39;00m(\u001b[38;5;124m\"\u001b[39m\u001b[38;5;124mThe dot product of the given arrays cannot be calculated. Please check the dimensions.\u001b[39m\u001b[38;5;124m\"\u001b[39m)\n\u001b[0;32m    350\u001b[0m \u001b[38;5;28;01melse\u001b[39;00m:\n\u001b[0;32m    351\u001b[0m     \u001b[38;5;66;03m# raise ValueError for the dimensions\u001b[39;00m\n\u001b[0;32m    352\u001b[0m     \u001b[38;5;28;01mraise\u001b[39;00m \u001b[38;5;167;01mValueError\u001b[39;00m(\u001b[38;5;124m\"\u001b[39m\u001b[38;5;124mThe dot product of the given arrays cannot be calculated. Please check the dimensions.\u001b[39m\u001b[38;5;124m\"\u001b[39m)\n",
      "\u001b[1;31mValueError\u001b[0m: The dot product of the given arrays cannot be calculated. Please check the dimensions."
     ]
    }
   ],
   "source": [
    "# dotproduct\n",
    "\n",
    "exc12 = [2,2]\n",
    "exc13 = [1,2,4,5]\n",
    "\n",
    "exc14 = [[1,2],[4,5]]\n",
    "exc15 = [[1,5,3],[7,2,1],[1,2,1]]\n",
    "\n",
    "\n",
    "# Case 1: Both arrays are matrices but number of columns of array 1 is not equal to number of rows of array2\n",
    "print(SNumPy.dotproduct(exc15,exc14))"
   ]
  },
  {
   "cell_type": "code",
   "execution_count": 24,
   "id": "7a55539e",
   "metadata": {},
   "outputs": [
    {
     "ename": "ValueError",
     "evalue": "The dot product of the given arrays cannot be calculated. Please check the dimensions.",
     "output_type": "error",
     "traceback": [
      "\u001b[1;31m---------------------------------------------------------------------------\u001b[0m",
      "\u001b[1;31mValueError\u001b[0m                                Traceback (most recent call last)",
      "Input \u001b[1;32mIn [24]\u001b[0m, in \u001b[0;36m<cell line: 2>\u001b[1;34m()\u001b[0m\n\u001b[0;32m      1\u001b[0m \u001b[38;5;66;03m# Case 2: Both arrays are vectors, but they have a different length \u001b[39;00m\n\u001b[1;32m----> 2\u001b[0m \u001b[38;5;28mprint\u001b[39m(\u001b[43mSNumPy\u001b[49m\u001b[38;5;241;43m.\u001b[39;49m\u001b[43mdotproduct\u001b[49m\u001b[43m(\u001b[49m\u001b[43mexc12\u001b[49m\u001b[43m,\u001b[49m\u001b[43mexc13\u001b[49m\u001b[43m)\u001b[49m)\n",
      "Input \u001b[1;32mIn [1]\u001b[0m, in \u001b[0;36mSNumPy.dotproduct\u001b[1;34m(array1, array2)\u001b[0m\n\u001b[0;32m    348\u001b[0m         \u001b[38;5;28;01mraise\u001b[39;00m \u001b[38;5;167;01mValueError\u001b[39;00m(\u001b[38;5;124m\"\u001b[39m\u001b[38;5;124mThe dot product of the given arrays cannot be calculated. Please check the dimensions.\u001b[39m\u001b[38;5;124m\"\u001b[39m)\n\u001b[0;32m    350\u001b[0m \u001b[38;5;28;01melse\u001b[39;00m:\n\u001b[0;32m    351\u001b[0m     \u001b[38;5;66;03m# raise ValueError for the dimensions\u001b[39;00m\n\u001b[1;32m--> 352\u001b[0m     \u001b[38;5;28;01mraise\u001b[39;00m \u001b[38;5;167;01mValueError\u001b[39;00m(\u001b[38;5;124m\"\u001b[39m\u001b[38;5;124mThe dot product of the given arrays cannot be calculated. Please check the dimensions.\u001b[39m\u001b[38;5;124m\"\u001b[39m)\n",
      "\u001b[1;31mValueError\u001b[0m: The dot product of the given arrays cannot be calculated. Please check the dimensions."
     ]
    }
   ],
   "source": [
    "# Case 2: Both arrays are vectors, but they have a different length \n",
    "print(SNumPy.dotproduct(exc12,exc13))"
   ]
  },
  {
   "cell_type": "code",
   "execution_count": 25,
   "id": "b478224b",
   "metadata": {},
   "outputs": [
    {
     "ename": "ValueError",
     "evalue": "The dot product of the given arrays cannot be calculated. Please check the dimensions.",
     "output_type": "error",
     "traceback": [
      "\u001b[1;31m---------------------------------------------------------------------------\u001b[0m",
      "\u001b[1;31mValueError\u001b[0m                                Traceback (most recent call last)",
      "Input \u001b[1;32mIn [25]\u001b[0m, in \u001b[0;36m<cell line: 2>\u001b[1;34m()\u001b[0m\n\u001b[0;32m      1\u001b[0m \u001b[38;5;66;03m# Case 3: Mixed arrays, but the dimension requirements are not fulfilled  \u001b[39;00m\n\u001b[1;32m----> 2\u001b[0m \u001b[38;5;28mprint\u001b[39m(\u001b[43mSNumPy\u001b[49m\u001b[38;5;241;43m.\u001b[39;49m\u001b[43mdotproduct\u001b[49m\u001b[43m(\u001b[49m\u001b[43mexc13\u001b[49m\u001b[43m,\u001b[49m\u001b[43mexc15\u001b[49m\u001b[43m)\u001b[49m)\n",
      "Input \u001b[1;32mIn [1]\u001b[0m, in \u001b[0;36mSNumPy.dotproduct\u001b[1;34m(array1, array2)\u001b[0m\n\u001b[0;32m    344\u001b[0m         \u001b[38;5;28;01mreturn\u001b[39;00m result\n\u001b[0;32m    346\u001b[0m     \u001b[38;5;28;01melse\u001b[39;00m:\n\u001b[0;32m    347\u001b[0m         \u001b[38;5;66;03m# raise ValueError for the dimensions\u001b[39;00m\n\u001b[1;32m--> 348\u001b[0m         \u001b[38;5;28;01mraise\u001b[39;00m \u001b[38;5;167;01mValueError\u001b[39;00m(\u001b[38;5;124m\"\u001b[39m\u001b[38;5;124mThe dot product of the given arrays cannot be calculated. Please check the dimensions.\u001b[39m\u001b[38;5;124m\"\u001b[39m)\n\u001b[0;32m    350\u001b[0m \u001b[38;5;28;01melse\u001b[39;00m:\n\u001b[0;32m    351\u001b[0m     \u001b[38;5;66;03m# raise ValueError for the dimensions\u001b[39;00m\n\u001b[0;32m    352\u001b[0m     \u001b[38;5;28;01mraise\u001b[39;00m \u001b[38;5;167;01mValueError\u001b[39;00m(\u001b[38;5;124m\"\u001b[39m\u001b[38;5;124mThe dot product of the given arrays cannot be calculated. Please check the dimensions.\u001b[39m\u001b[38;5;124m\"\u001b[39m)\n",
      "\u001b[1;31mValueError\u001b[0m: The dot product of the given arrays cannot be calculated. Please check the dimensions."
     ]
    }
   ],
   "source": [
    "# Case 3: Mixed arrays, but the dimension requirements are not fulfilled  \n",
    "print(SNumPy.dotproduct(exc13,exc15))"
   ]
  },
  {
   "cell_type": "markdown",
   "id": "275d2526",
   "metadata": {},
   "source": [
    "## Task 2 - Hamming’s Code"
   ]
  },
  {
   "cell_type": "markdown",
   "id": "ca6b283e",
   "metadata": {},
   "source": [
    "For the implementation we chose to use the numpy library as vector-matrix calcuations are performed effectively and have dedicated functions."
   ]
  },
  {
   "cell_type": "code",
   "execution_count": 1,
   "id": "0a87680f",
   "metadata": {},
   "outputs": [],
   "source": [
    "import numpy as np"
   ]
  },
  {
   "cell_type": "markdown",
   "id": "be2d2406",
   "metadata": {},
   "source": [
    "With multiplying a message with the generator matrix the message is being transformed into the Hamming-encoded message. That means it now carries the parity check bits. If the message is to be read at the receiving end, multiplying the message with the decoding matrix will result in the original matrix given there has not been a bit flip. In order to check for bit flips the parity check matrix is used. If there has been no flip the result of the encoded message multiplied with the parity check matrix will result in the nullvector. The generator matrix, parity check matrix and decoder matrix were defined below as 'gen', 'ham' and 'dec'."
   ]
  },
  {
   "cell_type": "markdown",
   "id": "516afdf4",
   "metadata": {},
   "source": [
    "### Define Generator, Parity Check, Decoder matrix"
   ]
  },
  {
   "cell_type": "code",
   "execution_count": 2,
   "id": "3372ec12",
   "metadata": {},
   "outputs": [],
   "source": [
    "# generation matrix G, here refered to as gen\n",
    "gen = np.array([[1,1,0,1],[1,0,1,1],[1,0,0,0],[0,1,1,1],[0,1,0,0],[0,0,1,0],[0,0,0,1]])\n",
    "\n",
    "# partiy-check matrix h, here refered to as ham\n",
    "ham = np.array([[1,0,1,0,1,0,1],[0,1,1,0,0,1,1],[0,0,0,1,1,1,1]])\n",
    "\n",
    "# decoder matrix R, here refered to as dec\n",
    "dec = np.array([[0,0,1,0,0,0,0],[0,0,0,0,1,0,0],[0,0,0,0,0,1,0],[0,0,0,0,0,0,1]])"
   ]
  },
  {
   "cell_type": "markdown",
   "id": "dae113ab",
   "metadata": {},
   "source": [
    "In order to generate the encoded message, the original message is multiplied with the generator matrix 'gen' using the numpy dot product function followed by the modulo function to break down the result to a 0-1-bit level.\n",
    "\n",
    "As the $encode()$ function is designed to only take arrays/vectors of shape (4,1), relevant tests result in exceptions if that requirement is not met. \n",
    "\n",
    "The first check makes sure the input vector is a numpy array. If that is not the case a TypeError is raised. \n",
    "\n",
    "The second check makes sure the input vector only has 4 values. If that is not the case a ValueError is raised. \n",
    "\n",
    "The third check makes sure the input vector does not contain other values than 0 or 1. If it does a ValueError is raised. \n",
    "\n",
    "If no exception is raised, the input vector can be used to generate the encoded message."
   ]
  },
  {
   "cell_type": "markdown",
   "id": "2686fcb0",
   "metadata": {},
   "source": [
    "### Question 2.1 "
   ]
  },
  {
   "cell_type": "code",
   "execution_count": 3,
   "id": "a7711a76",
   "metadata": {},
   "outputs": [],
   "source": [
    "'''Encodes a message'''\n",
    "\n",
    "def encode(w):\n",
    "    \n",
    "    # check whether w is numpy array and not ordinary array; if not raise exception\n",
    "    if type(w) != np.ndarray:\n",
    "        raise TypeError('The input needs to be a numpy array.')\n",
    "    \n",
    "    # check whether w has length of 4; if not raise exception\n",
    "    elif w.shape != (4,):\n",
    "        raise ValueError('The array needs to have exactly 4 digits.')\n",
    "    \n",
    "    # check whether all values in w are 0 or 1; if not raise exception\n",
    "    elif not np.isin(w,[0,1]).all():\n",
    "        raise ValueError('Elements in array must either be 0 or 1')\n",
    "        \n",
    "    # if none of the above are true, then the encoding can proceed\n",
    "    else:\n",
    "        # multiply the message vector with the generation matrix\n",
    "        c1 = gen.dot(w)\n",
    "\n",
    "        #modulo 2 in order to turn the result into binary\n",
    "        c2 = np.mod(c1,2)\n",
    "\n",
    "        return c2"
   ]
  },
  {
   "cell_type": "markdown",
   "id": "f6a0b7d2",
   "metadata": {},
   "source": [
    "For the parity check, similar checks need to be made to make sure only appropriate inputs are used. The parity check gets an encoded message, so a 7-digit long numpy array with 0s and 1s. Similar to the tests in the encoding function, we are checking for the right type, shape (of (7,1) this time) and only binary values. \n",
    "\n",
    "After having made sure the input is of the correct form, the encoded (and potentially manipulated) message can be checked through multiplying it with the parity matrix followed by applying modulo in order to bring all values down to 0s and 1s. If the result is the nullvector, no bitflips occured."
   ]
  },
  {
   "cell_type": "code",
   "execution_count": 4,
   "id": "c8f34258",
   "metadata": {},
   "outputs": [],
   "source": [
    "'''Checks whether there has been a bit flip'''\n",
    "def parity(c):\n",
    "    \n",
    "    # check whether c is numpy array and not ordinary array; if not raise exception\n",
    "    if type(c) != np.ndarray:\n",
    "        raise TypeError('The input needs to be a numpy array.')\n",
    "    \n",
    "    # check whether c has length of 7; if not raise exception\n",
    "    elif c.shape != (7,):\n",
    "        raise ValueError('The array needs to have exactly 7 digits.')\n",
    "    \n",
    "    # check whether all values in c are 0 or 1; if not raise exception\n",
    "    elif not np.isin(c,[0,1]).all():\n",
    "        raise ValueError('Elements in array must either be 0 or 1')\n",
    "        \n",
    "    # if none of the above are true, then the parity-check can proceed\n",
    "    else:\n",
    "\n",
    "        # multiplying c with parity check matrix\n",
    "        x1 = ham.dot(c)\n",
    "\n",
    "        # modulo 2 in order to turn the result into binary \n",
    "        x2 = np.mod(x1,2)\n",
    "\n",
    "        # check wether all numbers are 0\n",
    "        nullvector = True\n",
    "        for e in x2:\n",
    "            if e != 0:\n",
    "                nullvector = False\n",
    "\n",
    "        # translation of bit flip position from binary to decimal\n",
    "        counter = 0   \n",
    "        if x2[0] == 1:\n",
    "            counter += 1\n",
    "        if x2[1] == 1:\n",
    "            counter += 2\n",
    "        if x2[2] == 1:\n",
    "            counter += 4\n",
    "            \n",
    "        # print check result\n",
    "        if (nullvector): return (\"Successful transmission\")\n",
    "        else: return (\"Unsuccesful transmission: \\t\\nA bit flip was discovered at position \" + str(counter) + \" (left to right, [1-7])\")"
   ]
  },
  {
   "cell_type": "markdown",
   "id": "631339e3",
   "metadata": {},
   "source": [
    "Similar tests are conducted in the decoding function. It also receives a 7-bit vector, of numpy type and only containing 0s and 1s. In order to transform the received encoded message back to the original message, it needs to be multiplied with the decoder matrix."
   ]
  },
  {
   "cell_type": "markdown",
   "id": "8e72745a",
   "metadata": {},
   "source": [
    "### Question 2.2"
   ]
  },
  {
   "cell_type": "code",
   "execution_count": 5,
   "id": "6fe8e962",
   "metadata": {},
   "outputs": [],
   "source": [
    "def decode(c_w):\n",
    "        \n",
    "    # check whether c_w is numpy array and not ordinary array; if not raise exception\n",
    "    if type(c_w) != np.ndarray:\n",
    "        raise TypeError('The input needs to be a numpy array.')\n",
    "    \n",
    "    # check whether c_w has length of 4; if not raise exception\n",
    "    elif c_w.shape != (7,):\n",
    "        raise ValueError('The array needs to have exactly 7 digits.')\n",
    "    \n",
    "    # check whether all values in c_w are 0 or 1; if not raise exception\n",
    "    elif not np.isin(c_w,[0,1]).all():\n",
    "        raise ValueError('Elements in array must either be 0 or 1')\n",
    "        \n",
    "    # if none of the above are true, then the encoding can proceed\n",
    "    else:\n",
    "\n",
    "        # decode c_w into w with multiplying c_w with the decode matrix\n",
    "        w1 = dec.dot(c_w)\n",
    "\n",
    "        # modulo 2 in order to turn the result into binary\n",
    "        w2 = np.mod(w1,2)\n",
    "\n",
    "        return w2"
   ]
  },
  {
   "cell_type": "markdown",
   "id": "892b7e39",
   "metadata": {},
   "source": [
    "### Question 2.3"
   ]
  },
  {
   "cell_type": "markdown",
   "id": "d59a23ba",
   "metadata": {},
   "source": [
    "#### Test with [0,1,0,1]"
   ]
  },
  {
   "cell_type": "code",
   "execution_count": 8,
   "id": "fd7abc1d",
   "metadata": {},
   "outputs": [
    {
     "name": "stdout",
     "output_type": "stream",
     "text": [
      "[0 1 0 0 1 0 1] (P1, P2, B1, P3, B2, B3, B4))\n"
     ]
    }
   ],
   "source": [
    "'''encoding a message'''\n",
    "\n",
    "# P1 = Partiybit 1; B1 = Messagebit 1\n",
    "encoded = encode(np.array([0,1,0,1]))\n",
    "print(str(encoded) + \" (P1, P2, B1, P3, B2, B3, B4))\")"
   ]
  },
  {
   "cell_type": "code",
   "execution_count": 9,
   "id": "b9dcb9fd",
   "metadata": {},
   "outputs": [
    {
     "name": "stdout",
     "output_type": "stream",
     "text": [
      "[0 1 0 1]\n"
     ]
    }
   ],
   "source": [
    "'''decoding a message'''\n",
    "\n",
    "decoded = decode(np.array([0,1,0,0,1,0,1]))\n",
    "print(decoded)"
   ]
  },
  {
   "cell_type": "code",
   "execution_count": 14,
   "id": "46424d7e",
   "metadata": {},
   "outputs": [
    {
     "name": "stdout",
     "output_type": "stream",
     "text": [
      "Unsuccesful transmission: \t\n",
      "A bit flip was discovered at position 2 (left to right, [1-7])\n"
     ]
    }
   ],
   "source": [
    "'''check for bit flip (2nd position was flipped)'''\n",
    "\n",
    "result = parity(np.array([0,0,0,0,1,0,1]))\n",
    "print(result)"
   ]
  },
  {
   "cell_type": "code",
   "execution_count": 28,
   "id": "00f230a0",
   "metadata": {},
   "outputs": [
    {
     "name": "stdout",
     "output_type": "stream",
     "text": [
      "Successful transmission\n"
     ]
    }
   ],
   "source": [
    "'''check for bit flip (there was none)'''\n",
    "\n",
    "result = parity(np.array([0,1,0,0,1,0,1]))\n",
    "print(result)"
   ]
  },
  {
   "cell_type": "markdown",
   "id": "ee95307d",
   "metadata": {},
   "source": [
    "#### Test with [1,1,1,0]"
   ]
  },
  {
   "cell_type": "code",
   "execution_count": 19,
   "id": "86b7d295",
   "metadata": {},
   "outputs": [
    {
     "name": "stdout",
     "output_type": "stream",
     "text": [
      "[0 0 1 0 1 1 0] (P1, P2, B1, P3, B2, B3, B4))\n"
     ]
    }
   ],
   "source": [
    "'''encoding a message'''\n",
    "\n",
    "# P1 = Partiybit 1; B1 = Messagebit 1\n",
    "encoded = encode(np.array([1,1,1,0]))\n",
    "print(str(encoded) + \" (P1, P2, B1, P3, B2, B3, B4))\")"
   ]
  },
  {
   "cell_type": "code",
   "execution_count": 20,
   "id": "347bfe9c",
   "metadata": {},
   "outputs": [
    {
     "name": "stdout",
     "output_type": "stream",
     "text": [
      "[1 1 1 0]\n"
     ]
    }
   ],
   "source": [
    "'''decoding a message'''\n",
    "\n",
    "decoded = decode(np.array([0,0,1,0,1,1,0]))\n",
    "print(decoded)"
   ]
  },
  {
   "cell_type": "code",
   "execution_count": 22,
   "id": "ba75f248",
   "metadata": {},
   "outputs": [
    {
     "name": "stdout",
     "output_type": "stream",
     "text": [
      "Unsuccesful transmission: \t\n",
      "A bit flip was discovered at position 5 (left to right, [1-7])\n"
     ]
    }
   ],
   "source": [
    "'''check for bit flip (5nd position was flipped)'''\n",
    "\n",
    "result = parity(np.array([0,0,1,0,0,1,0]))\n",
    "print(result)"
   ]
  },
  {
   "cell_type": "code",
   "execution_count": 29,
   "id": "6e4627e8",
   "metadata": {},
   "outputs": [
    {
     "name": "stdout",
     "output_type": "stream",
     "text": [
      "Successful transmission\n"
     ]
    }
   ],
   "source": [
    "'''check for bit flip (there was none)'''\n",
    "\n",
    "result = parity(np.array([0,0,1,0,1,1,0]))\n",
    "print(result)"
   ]
  },
  {
   "cell_type": "markdown",
   "id": "8f802e38",
   "metadata": {},
   "source": [
    "#### Test with [0,1,1,0]"
   ]
  },
  {
   "cell_type": "code",
   "execution_count": 24,
   "id": "1da8e8be",
   "metadata": {},
   "outputs": [
    {
     "name": "stdout",
     "output_type": "stream",
     "text": [
      "[1 1 0 0 1 1 0] (P1, P2, B1, P3, B2, B3, B4))\n"
     ]
    }
   ],
   "source": [
    "'''encoding a message'''\n",
    "\n",
    "# P1 = Partiybit 1; B1 = Messagebit 1\n",
    "encoded = encode(np.array([0,1,1,0]))\n",
    "print(str(encoded) + \" (P1, P2, B1, P3, B2, B3, B4))\")"
   ]
  },
  {
   "cell_type": "code",
   "execution_count": 26,
   "id": "8b28dc30",
   "metadata": {},
   "outputs": [
    {
     "name": "stdout",
     "output_type": "stream",
     "text": [
      "[0 1 1 0]\n"
     ]
    }
   ],
   "source": [
    "'''decoding a message'''\n",
    "\n",
    "decoded = decode(np.array([1,1,0,0,1,1,0]))\n",
    "print(decoded)"
   ]
  },
  {
   "cell_type": "code",
   "execution_count": 30,
   "id": "611630d0",
   "metadata": {},
   "outputs": [
    {
     "name": "stdout",
     "output_type": "stream",
     "text": [
      "Successful transmission\n"
     ]
    }
   ],
   "source": [
    "'''check for bit flip (there was none)'''\n",
    "\n",
    "result = parity(np.array([1,1,0,0,1,1,0]))\n",
    "print(result)"
   ]
  },
  {
   "cell_type": "markdown",
   "id": "a53af9b0",
   "metadata": {},
   "source": [
    "#### other tests "
   ]
  },
  {
   "cell_type": "code",
   "execution_count": 37,
   "id": "e3e67cd5",
   "metadata": {},
   "outputs": [
    {
     "ename": "TypeError",
     "evalue": "The input needs to be a numpy array.",
     "output_type": "error",
     "traceback": [
      "\u001b[0;31m---------------------------------------------------------------------------\u001b[0m",
      "\u001b[0;31mTypeError\u001b[0m                                 Traceback (most recent call last)",
      "Input \u001b[0;32mIn [37]\u001b[0m, in \u001b[0;36m<cell line: 3>\u001b[0;34m()\u001b[0m\n\u001b[1;32m      1\u001b[0m \u001b[38;5;124;03m'''Test with incorrect type'''\u001b[39;00m\n\u001b[0;32m----> 3\u001b[0m array \u001b[38;5;241m=\u001b[39m \u001b[43mencode\u001b[49m\u001b[43m(\u001b[49m\u001b[43m[\u001b[49m\u001b[38;5;241;43m0\u001b[39;49m\u001b[43m,\u001b[49m\u001b[38;5;241;43m1\u001b[39;49m\u001b[43m,\u001b[49m\u001b[38;5;241;43m0\u001b[39;49m\u001b[43m,\u001b[49m\u001b[38;5;241;43m1\u001b[39;49m\u001b[43m]\u001b[49m\u001b[43m)\u001b[49m\n",
      "Input \u001b[0;32mIn [3]\u001b[0m, in \u001b[0;36mencode\u001b[0;34m(w)\u001b[0m\n\u001b[1;32m      3\u001b[0m \u001b[38;5;28;01mdef\u001b[39;00m \u001b[38;5;21mencode\u001b[39m(w):\n\u001b[1;32m      4\u001b[0m     \n\u001b[1;32m      5\u001b[0m     \u001b[38;5;66;03m# check whether w is numpy array and not ordinary array; if not raise exception\u001b[39;00m\n\u001b[1;32m      6\u001b[0m     \u001b[38;5;28;01mif\u001b[39;00m \u001b[38;5;28mtype\u001b[39m(w) \u001b[38;5;241m!=\u001b[39m np\u001b[38;5;241m.\u001b[39mndarray:\n\u001b[0;32m----> 7\u001b[0m         \u001b[38;5;28;01mraise\u001b[39;00m \u001b[38;5;167;01mTypeError\u001b[39;00m(\u001b[38;5;124m'\u001b[39m\u001b[38;5;124mThe input needs to be a numpy array.\u001b[39m\u001b[38;5;124m'\u001b[39m)\n\u001b[1;32m      9\u001b[0m     \u001b[38;5;66;03m# check whether w has length of 4; if not raise exception\u001b[39;00m\n\u001b[1;32m     10\u001b[0m     \u001b[38;5;28;01melif\u001b[39;00m w\u001b[38;5;241m.\u001b[39mshape \u001b[38;5;241m!=\u001b[39m (\u001b[38;5;241m4\u001b[39m,):\n",
      "\u001b[0;31mTypeError\u001b[0m: The input needs to be a numpy array."
     ]
    }
   ],
   "source": [
    "'''Test with incorrect type'''\n",
    "\n",
    "array = encode([0,1,0,1])"
   ]
  },
  {
   "cell_type": "code",
   "execution_count": 38,
   "id": "0d300016",
   "metadata": {},
   "outputs": [
    {
     "ename": "ValueError",
     "evalue": "The array needs to have exactly 4 digits.",
     "output_type": "error",
     "traceback": [
      "\u001b[0;31m---------------------------------------------------------------------------\u001b[0m",
      "\u001b[0;31mValueError\u001b[0m                                Traceback (most recent call last)",
      "Input \u001b[0;32mIn [38]\u001b[0m, in \u001b[0;36m<cell line: 3>\u001b[0;34m()\u001b[0m\n\u001b[1;32m      1\u001b[0m \u001b[38;5;124;03m'''Test with incorrect length'''\u001b[39;00m\n\u001b[0;32m----> 3\u001b[0m array \u001b[38;5;241m=\u001b[39m \u001b[43mencode\u001b[49m\u001b[43m(\u001b[49m\u001b[43mnp\u001b[49m\u001b[38;5;241;43m.\u001b[39;49m\u001b[43marray\u001b[49m\u001b[43m(\u001b[49m\u001b[43m[\u001b[49m\u001b[38;5;241;43m0\u001b[39;49m\u001b[43m,\u001b[49m\u001b[38;5;241;43m1\u001b[39;49m\u001b[43m,\u001b[49m\u001b[38;5;241;43m0\u001b[39;49m\u001b[43m,\u001b[49m\u001b[38;5;241;43m1\u001b[39;49m\u001b[43m,\u001b[49m\u001b[38;5;241;43m1\u001b[39;49m\u001b[43m]\u001b[49m\u001b[43m)\u001b[49m\u001b[43m)\u001b[49m\n",
      "Input \u001b[0;32mIn [3]\u001b[0m, in \u001b[0;36mencode\u001b[0;34m(w)\u001b[0m\n\u001b[1;32m      9\u001b[0m \u001b[38;5;66;03m# check whether w has length of 4; if not raise exception\u001b[39;00m\n\u001b[1;32m     10\u001b[0m \u001b[38;5;28;01melif\u001b[39;00m w\u001b[38;5;241m.\u001b[39mshape \u001b[38;5;241m!=\u001b[39m (\u001b[38;5;241m4\u001b[39m,):\n\u001b[0;32m---> 11\u001b[0m     \u001b[38;5;28;01mraise\u001b[39;00m \u001b[38;5;167;01mValueError\u001b[39;00m(\u001b[38;5;124m'\u001b[39m\u001b[38;5;124mThe array needs to have exactly 4 digits.\u001b[39m\u001b[38;5;124m'\u001b[39m)\n\u001b[1;32m     13\u001b[0m \u001b[38;5;66;03m# check whether all values in w are 0 or 1; if not raise exception\u001b[39;00m\n\u001b[1;32m     14\u001b[0m \u001b[38;5;28;01melif\u001b[39;00m \u001b[38;5;129;01mnot\u001b[39;00m np\u001b[38;5;241m.\u001b[39misin(w,[\u001b[38;5;241m0\u001b[39m,\u001b[38;5;241m1\u001b[39m])\u001b[38;5;241m.\u001b[39mall():\n",
      "\u001b[0;31mValueError\u001b[0m: The array needs to have exactly 4 digits."
     ]
    }
   ],
   "source": [
    "'''Test with incorrect length'''\n",
    "\n",
    "array = encode(np.array([0,1,0,1,1]))"
   ]
  },
  {
   "cell_type": "code",
   "execution_count": 39,
   "id": "20bc358e",
   "metadata": {},
   "outputs": [
    {
     "ename": "ValueError",
     "evalue": "Elements in array must either be 0 or 1",
     "output_type": "error",
     "traceback": [
      "\u001b[0;31m---------------------------------------------------------------------------\u001b[0m",
      "\u001b[0;31mValueError\u001b[0m                                Traceback (most recent call last)",
      "Input \u001b[0;32mIn [39]\u001b[0m, in \u001b[0;36m<cell line: 3>\u001b[0;34m()\u001b[0m\n\u001b[1;32m      1\u001b[0m \u001b[38;5;124;03m'''Test with incorrect digits'''\u001b[39;00m\n\u001b[0;32m----> 3\u001b[0m array \u001b[38;5;241m=\u001b[39m \u001b[43mencode\u001b[49m\u001b[43m(\u001b[49m\u001b[43mnp\u001b[49m\u001b[38;5;241;43m.\u001b[39;49m\u001b[43marray\u001b[49m\u001b[43m(\u001b[49m\u001b[43m[\u001b[49m\u001b[38;5;241;43m0\u001b[39;49m\u001b[43m,\u001b[49m\u001b[38;5;241;43m1\u001b[39;49m\u001b[43m,\u001b[49m\u001b[38;5;241;43m3\u001b[39;49m\u001b[43m,\u001b[49m\u001b[38;5;241;43m2\u001b[39;49m\u001b[43m]\u001b[49m\u001b[43m)\u001b[49m\u001b[43m)\u001b[49m\n",
      "Input \u001b[0;32mIn [3]\u001b[0m, in \u001b[0;36mencode\u001b[0;34m(w)\u001b[0m\n\u001b[1;32m     13\u001b[0m \u001b[38;5;66;03m# check whether all values in w are 0 or 1; if not raise exception\u001b[39;00m\n\u001b[1;32m     14\u001b[0m \u001b[38;5;28;01melif\u001b[39;00m \u001b[38;5;129;01mnot\u001b[39;00m np\u001b[38;5;241m.\u001b[39misin(w,[\u001b[38;5;241m0\u001b[39m,\u001b[38;5;241m1\u001b[39m])\u001b[38;5;241m.\u001b[39mall():\n\u001b[0;32m---> 15\u001b[0m     \u001b[38;5;28;01mraise\u001b[39;00m \u001b[38;5;167;01mValueError\u001b[39;00m(\u001b[38;5;124m'\u001b[39m\u001b[38;5;124mElements in array must either be 0 or 1\u001b[39m\u001b[38;5;124m'\u001b[39m)\n\u001b[1;32m     17\u001b[0m \u001b[38;5;66;03m# if none of the above are true, then the encoding can proceed\u001b[39;00m\n\u001b[1;32m     18\u001b[0m \u001b[38;5;28;01melse\u001b[39;00m:\n\u001b[1;32m     19\u001b[0m     \u001b[38;5;66;03m# multiply the message vector with the generation matrix\u001b[39;00m\n\u001b[1;32m     20\u001b[0m     c1 \u001b[38;5;241m=\u001b[39m gen\u001b[38;5;241m.\u001b[39mdot(w)\n",
      "\u001b[0;31mValueError\u001b[0m: Elements in array must either be 0 or 1"
     ]
    }
   ],
   "source": [
    "'''Test with incorrect digits'''\n",
    "\n",
    "array = encode(np.array([0,1,3,2]))"
   ]
  },
  {
   "cell_type": "markdown",
   "id": "fbf371f9",
   "metadata": {},
   "source": [
    "## Task 3 - Text Document Similarity"
   ]
  },
  {
   "cell_type": "markdown",
   "id": "8c8009b4",
   "metadata": {},
   "source": [
    "### Function Definition...\n",
    "... and output control"
   ]
  },
  {
   "cell_type": "code",
   "execution_count": 40,
   "id": "64f08ca0",
   "metadata": {},
   "outputs": [],
   "source": [
    "import pandas as pd\n",
    "import re\n",
    "import numpy as np"
   ]
  },
  {
   "cell_type": "code",
   "execution_count": 42,
   "id": "190917d9",
   "metadata": {},
   "outputs": [],
   "source": [
    "# initiate a text corpus (in this case a list of strings) using news headlines from \"The New York Times\" website\n",
    "\n",
    "textCorpus = [\n",
    "            \"What Time Do the Polls Close?\",\n",
    "            \"New Voting Laws Add Difficulties for People With Disabilities Disabilities \",\n",
    "            \"African Countries Say Richer Nations Fall Short on Climate Pledges\",\n",
    "            \"Switzerland is paying poorer countries to cut emissions on its behalf, raising concerns that other nations will follow.\",\n",
    "            \"Apple Built Its Empire With China. Now Its Foundation Is Showing Cracks.\",\n",
    "            \"China’s Business Elite See the Country That Let Them Thrive Slipping Away\",\n",
    "            \"AFP claims Medibank hackers are Russian cybercriminals\",\n",
    "            \"States record spike in COVID-19 cases\",\n",
    "            \"Australia marks Remembrance Day\",\n",
    "            \"Democracy and the End of Roe Shaped the Midterm Results\",\n",
    "            \"An air of suspense is hanging over the Capitol as the vote counting continues, Carl Hulse writes.\",\n",
    "            \"Amid Chaos and Explosions, Russia Says Retreat From Kherson City Is Complete\",\n",
    "            \"Most emissions are produced by industrialized countries\",\n",
    "            \"Emissions emissions Emissions Emissions rich rich rich rich rich rich rich rich rich\"\n",
    "            ]\n",
    "\n",
    "\n",
    "# initiate a string which should be compared to the others\n",
    "\n",
    "inputText = \"Most emissions are produced by industrialized, rich countries and not other, poorer countries.\""
   ]
  },
  {
   "cell_type": "code",
   "execution_count": 43,
   "id": "e111d369",
   "metadata": {},
   "outputs": [
    {
     "name": "stdout",
     "output_type": "stream",
     "text": [
      "{'what': 1, 'time': 1, 'do': 1, 'the': 1, 'polls': 1, 'close': 1, 'new': 1, 'voting': 1, 'laws': 1, 'add': 1, 'difficulties': 1, 'for': 1, 'people': 1, 'with': 1, 'disabilities': 1, '': 1, 'african': 1, 'countries': 1, 'say': 1, 'richer': 1, 'nations': 1, 'fall': 1, 'short': 1, 'on': 1, 'climate': 1, 'pledges': 1, 'switzerland': 1, 'is': 1, 'paying': 1, 'poorer': 1, 'to': 1, 'cut': 1, 'emissions': 1, 'its': 1, 'behalf': 1, 'raising': 1, 'concerns': 1, 'that': 1, 'other': 1, 'will': 1, 'follow': 1, 'apple': 1, 'built': 1, 'empire': 1, 'china': 1, 'now': 1, 'foundation': 1, 'showing': 1, 'cracks': 1, 'chinas': 1, 'business': 1, 'elite': 1, 'see': 1, 'country': 1, 'let': 1, 'them': 1, 'thrive': 1, 'slipping': 1, 'away': 1, 'afp': 1, 'claims': 1, 'medibank': 1, 'hackers': 1, 'are': 1, 'russian': 1, 'cybercriminals': 1, 'states': 1, 'record': 1, 'spike': 1, 'in': 1, 'covid19': 1, 'cases': 1, 'australia': 1, 'marks': 1, 'remembrance': 1, 'day': 1, 'democracy': 1, 'and': 1, 'end': 1, 'of': 1, 'roe': 1, 'shaped': 1, 'midterm': 1, 'results': 1, 'an': 1, 'air': 1, 'suspense': 1, 'hanging': 1, 'over': 1, 'capitol': 1, 'as': 1, 'vote': 1, 'counting': 1, 'continues': 1, 'carl': 1, 'hulse': 1, 'writes': 1, 'amid': 1, 'chaos': 1, 'explosions': 1, 'russia': 1, 'says': 1, 'retreat': 1, 'from': 1, 'kherson': 1, 'city': 1, 'complete': 1, 'most': 1, 'produced': 1, 'by': 1, 'industrialized': 1, 'rich': 1}\n"
     ]
    }
   ],
   "source": [
    "# set up by creating functions for each step in the text vectorization + text similarity calculation\n",
    "\n",
    "# 1. create function for creating a word dictionary from the text corpus\n",
    "def createWordDict(textCorpus: list):\n",
    "    uniqueWords = {}\n",
    "    for sentence in textCorpus:\n",
    "        # use regex to replace everything that is not a character, number or space\n",
    "        sentence = re.sub(r'[^A-Za-z0-9 ]+', '', sentence)\n",
    "        # get sentence to lowercase\n",
    "        sentence = sentence.lower()\n",
    "        # split the sentence into its unique words on the space character\n",
    "        words = sentence.split(\" \")\n",
    "        # remove words already in the dictionary of words\n",
    "        words = [x for x in words if x not in uniqueWords]\n",
    "        # for the others, add them to the dictionary of words\n",
    "        for word in words:\n",
    "            uniqueWords[word] = 1\n",
    "    return uniqueWords\n",
    "\n",
    "\n",
    "# Testing the function and displaying functionality by printing the output\n",
    "\n",
    "wordDict = createWordDict(textCorpus)\n",
    "print(wordDict)"
   ]
  },
  {
   "cell_type": "code",
   "execution_count": 44,
   "id": "b31bf434",
   "metadata": {},
   "outputs": [
    {
     "name": "stdout",
     "output_type": "stream",
     "text": [
      "{'What Time Do the Polls Close?': array([1., 1., 1., 1., 1., 1., 0., 0., 0., 0., 0., 0., 0., 0., 0., 0., 0.,\n",
      "       0., 0., 0., 0., 0., 0., 0., 0., 0., 0., 0., 0., 0., 0., 0., 0., 0.,\n",
      "       0., 0., 0., 0., 0., 0., 0., 0., 0., 0., 0., 0., 0., 0., 0., 0., 0.,\n",
      "       0., 0., 0., 0., 0., 0., 0., 0., 0., 0., 0., 0., 0., 0., 0., 0., 0.,\n",
      "       0., 0., 0., 0., 0., 0., 0., 0., 0., 0., 0., 0., 0., 0., 0., 0., 0.,\n",
      "       0., 0., 0., 0., 0., 0., 0., 0., 0., 0., 0., 0., 0., 0., 0., 0., 0.,\n",
      "       0., 0., 0., 0., 0., 0., 0., 0., 0., 0.]), 'New Voting Laws Add Difficulties for People With Disabilities Disabilities ': array([0., 0., 0., 0., 0., 0., 1., 1., 1., 1., 1., 1., 1., 1., 2., 1., 0.,\n",
      "       0., 0., 0., 0., 0., 0., 0., 0., 0., 0., 0., 0., 0., 0., 0., 0., 0.,\n",
      "       0., 0., 0., 0., 0., 0., 0., 0., 0., 0., 0., 0., 0., 0., 0., 0., 0.,\n",
      "       0., 0., 0., 0., 0., 0., 0., 0., 0., 0., 0., 0., 0., 0., 0., 0., 0.,\n",
      "       0., 0., 0., 0., 0., 0., 0., 0., 0., 0., 0., 0., 0., 0., 0., 0., 0.,\n",
      "       0., 0., 0., 0., 0., 0., 0., 0., 0., 0., 0., 0., 0., 0., 0., 0., 0.,\n",
      "       0., 0., 0., 0., 0., 0., 0., 0., 0., 0.]), 'African Countries Say Richer Nations Fall Short on Climate Pledges': array([0., 0., 0., 0., 0., 0., 0., 0., 0., 0., 0., 0., 0., 0., 0., 0., 1.,\n",
      "       1., 1., 1., 1., 1., 1., 1., 1., 1., 0., 0., 0., 0., 0., 0., 0., 0.,\n",
      "       0., 0., 0., 0., 0., 0., 0., 0., 0., 0., 0., 0., 0., 0., 0., 0., 0.,\n",
      "       0., 0., 0., 0., 0., 0., 0., 0., 0., 0., 0., 0., 0., 0., 0., 0., 0.,\n",
      "       0., 0., 0., 0., 0., 0., 0., 0., 0., 0., 0., 0., 0., 0., 0., 0., 0.,\n",
      "       0., 0., 0., 0., 0., 0., 0., 0., 0., 0., 0., 0., 0., 0., 0., 0., 0.,\n",
      "       0., 0., 0., 0., 0., 0., 0., 0., 0., 0.]), 'Switzerland is paying poorer countries to cut emissions on its behalf, raising concerns that other nations will follow.': array([0., 0., 0., 0., 0., 0., 0., 0., 0., 0., 0., 0., 0., 0., 0., 0., 0.,\n",
      "       1., 0., 0., 1., 0., 0., 1., 0., 0., 1., 1., 1., 1., 1., 1., 1., 1.,\n",
      "       1., 1., 1., 1., 1., 1., 1., 0., 0., 0., 0., 0., 0., 0., 0., 0., 0.,\n",
      "       0., 0., 0., 0., 0., 0., 0., 0., 0., 0., 0., 0., 0., 0., 0., 0., 0.,\n",
      "       0., 0., 0., 0., 0., 0., 0., 0., 0., 0., 0., 0., 0., 0., 0., 0., 0.,\n",
      "       0., 0., 0., 0., 0., 0., 0., 0., 0., 0., 0., 0., 0., 0., 0., 0., 0.,\n",
      "       0., 0., 0., 0., 0., 0., 0., 0., 0., 0.]), 'Apple Built Its Empire With China. Now Its Foundation Is Showing Cracks.': array([0., 0., 0., 0., 0., 0., 0., 0., 0., 0., 0., 0., 0., 1., 0., 0., 0.,\n",
      "       0., 0., 0., 0., 0., 0., 0., 0., 0., 0., 1., 0., 0., 0., 0., 0., 2.,\n",
      "       0., 0., 0., 0., 0., 0., 0., 1., 1., 1., 1., 1., 1., 1., 1., 0., 0.,\n",
      "       0., 0., 0., 0., 0., 0., 0., 0., 0., 0., 0., 0., 0., 0., 0., 0., 0.,\n",
      "       0., 0., 0., 0., 0., 0., 0., 0., 0., 0., 0., 0., 0., 0., 0., 0., 0.,\n",
      "       0., 0., 0., 0., 0., 0., 0., 0., 0., 0., 0., 0., 0., 0., 0., 0., 0.,\n",
      "       0., 0., 0., 0., 0., 0., 0., 0., 0., 0.]), 'China’s Business Elite See the Country That Let Them Thrive Slipping Away': array([0., 0., 0., 1., 0., 0., 0., 0., 0., 0., 0., 0., 0., 0., 0., 0., 0.,\n",
      "       0., 0., 0., 0., 0., 0., 0., 0., 0., 0., 0., 0., 0., 0., 0., 0., 0.,\n",
      "       0., 0., 0., 1., 0., 0., 0., 0., 0., 0., 0., 0., 0., 0., 0., 1., 1.,\n",
      "       1., 1., 1., 1., 1., 1., 1., 1., 0., 0., 0., 0., 0., 0., 0., 0., 0.,\n",
      "       0., 0., 0., 0., 0., 0., 0., 0., 0., 0., 0., 0., 0., 0., 0., 0., 0.,\n",
      "       0., 0., 0., 0., 0., 0., 0., 0., 0., 0., 0., 0., 0., 0., 0., 0., 0.,\n",
      "       0., 0., 0., 0., 0., 0., 0., 0., 0., 0.]), 'AFP claims Medibank hackers are Russian cybercriminals': array([0., 0., 0., 0., 0., 0., 0., 0., 0., 0., 0., 0., 0., 0., 0., 0., 0.,\n",
      "       0., 0., 0., 0., 0., 0., 0., 0., 0., 0., 0., 0., 0., 0., 0., 0., 0.,\n",
      "       0., 0., 0., 0., 0., 0., 0., 0., 0., 0., 0., 0., 0., 0., 0., 0., 0.,\n",
      "       0., 0., 0., 0., 0., 0., 0., 0., 1., 1., 1., 1., 1., 1., 1., 0., 0.,\n",
      "       0., 0., 0., 0., 0., 0., 0., 0., 0., 0., 0., 0., 0., 0., 0., 0., 0.,\n",
      "       0., 0., 0., 0., 0., 0., 0., 0., 0., 0., 0., 0., 0., 0., 0., 0., 0.,\n",
      "       0., 0., 0., 0., 0., 0., 0., 0., 0., 0.]), 'States record spike in COVID-19 cases': array([0., 0., 0., 0., 0., 0., 0., 0., 0., 0., 0., 0., 0., 0., 0., 0., 0.,\n",
      "       0., 0., 0., 0., 0., 0., 0., 0., 0., 0., 0., 0., 0., 0., 0., 0., 0.,\n",
      "       0., 0., 0., 0., 0., 0., 0., 0., 0., 0., 0., 0., 0., 0., 0., 0., 0.,\n",
      "       0., 0., 0., 0., 0., 0., 0., 0., 0., 0., 0., 0., 0., 0., 0., 1., 1.,\n",
      "       1., 1., 1., 1., 0., 0., 0., 0., 0., 0., 0., 0., 0., 0., 0., 0., 0.,\n",
      "       0., 0., 0., 0., 0., 0., 0., 0., 0., 0., 0., 0., 0., 0., 0., 0., 0.,\n",
      "       0., 0., 0., 0., 0., 0., 0., 0., 0., 0.]), 'Australia marks Remembrance Day': array([0., 0., 0., 0., 0., 0., 0., 0., 0., 0., 0., 0., 0., 0., 0., 0., 0.,\n",
      "       0., 0., 0., 0., 0., 0., 0., 0., 0., 0., 0., 0., 0., 0., 0., 0., 0.,\n",
      "       0., 0., 0., 0., 0., 0., 0., 0., 0., 0., 0., 0., 0., 0., 0., 0., 0.,\n",
      "       0., 0., 0., 0., 0., 0., 0., 0., 0., 0., 0., 0., 0., 0., 0., 0., 0.,\n",
      "       0., 0., 0., 0., 1., 1., 1., 1., 0., 0., 0., 0., 0., 0., 0., 0., 0.,\n",
      "       0., 0., 0., 0., 0., 0., 0., 0., 0., 0., 0., 0., 0., 0., 0., 0., 0.,\n",
      "       0., 0., 0., 0., 0., 0., 0., 0., 0., 0.]), 'Democracy and the End of Roe Shaped the Midterm Results': array([0., 0., 0., 2., 0., 0., 0., 0., 0., 0., 0., 0., 0., 0., 0., 0., 0.,\n",
      "       0., 0., 0., 0., 0., 0., 0., 0., 0., 0., 0., 0., 0., 0., 0., 0., 0.,\n",
      "       0., 0., 0., 0., 0., 0., 0., 0., 0., 0., 0., 0., 0., 0., 0., 0., 0.,\n",
      "       0., 0., 0., 0., 0., 0., 0., 0., 0., 0., 0., 0., 0., 0., 0., 0., 0.,\n",
      "       0., 0., 0., 0., 0., 0., 0., 0., 1., 1., 1., 1., 1., 1., 1., 1., 0.,\n",
      "       0., 0., 0., 0., 0., 0., 0., 0., 0., 0., 0., 0., 0., 0., 0., 0., 0.,\n",
      "       0., 0., 0., 0., 0., 0., 0., 0., 0., 0.]), 'An air of suspense is hanging over the Capitol as the vote counting continues, Carl Hulse writes.': array([0., 0., 0., 2., 0., 0., 0., 0., 0., 0., 0., 0., 0., 0., 0., 0., 0.,\n",
      "       0., 0., 0., 0., 0., 0., 0., 0., 0., 0., 1., 0., 0., 0., 0., 0., 0.,\n",
      "       0., 0., 0., 0., 0., 0., 0., 0., 0., 0., 0., 0., 0., 0., 0., 0., 0.,\n",
      "       0., 0., 0., 0., 0., 0., 0., 0., 0., 0., 0., 0., 0., 0., 0., 0., 0.,\n",
      "       0., 0., 0., 0., 0., 0., 0., 0., 0., 0., 0., 1., 0., 0., 0., 0., 1.,\n",
      "       1., 1., 1., 1., 1., 1., 1., 1., 1., 1., 1., 1., 0., 0., 0., 0., 0.,\n",
      "       0., 0., 0., 0., 0., 0., 0., 0., 0., 0.]), 'Amid Chaos and Explosions, Russia Says Retreat From Kherson City Is Complete': array([0., 0., 0., 0., 0., 0., 0., 0., 0., 0., 0., 0., 0., 0., 0., 0., 0.,\n",
      "       0., 0., 0., 0., 0., 0., 0., 0., 0., 0., 1., 0., 0., 0., 0., 0., 0.,\n",
      "       0., 0., 0., 0., 0., 0., 0., 0., 0., 0., 0., 0., 0., 0., 0., 0., 0.,\n",
      "       0., 0., 0., 0., 0., 0., 0., 0., 0., 0., 0., 0., 0., 0., 0., 0., 0.,\n",
      "       0., 0., 0., 0., 0., 0., 0., 0., 0., 1., 0., 0., 0., 0., 0., 0., 0.,\n",
      "       0., 0., 0., 0., 0., 0., 0., 0., 0., 0., 0., 0., 1., 1., 1., 1., 1.,\n",
      "       1., 1., 1., 1., 1., 0., 0., 0., 0., 0.]), 'Most emissions are produced by industrialized countries': array([0., 0., 0., 0., 0., 0., 0., 0., 0., 0., 0., 0., 0., 0., 0., 0., 0.,\n",
      "       1., 0., 0., 0., 0., 0., 0., 0., 0., 0., 0., 0., 0., 0., 0., 1., 0.,\n",
      "       0., 0., 0., 0., 0., 0., 0., 0., 0., 0., 0., 0., 0., 0., 0., 0., 0.,\n",
      "       0., 0., 0., 0., 0., 0., 0., 0., 0., 0., 0., 0., 1., 0., 0., 0., 0.,\n",
      "       0., 0., 0., 0., 0., 0., 0., 0., 0., 0., 0., 0., 0., 0., 0., 0., 0.,\n",
      "       0., 0., 0., 0., 0., 0., 0., 0., 0., 0., 0., 0., 0., 0., 0., 0., 0.,\n",
      "       0., 0., 0., 0., 0., 1., 1., 1., 1., 0.]), 'Emissions emissions Emissions Emissions rich rich rich rich rich rich rich rich rich': array([0., 0., 0., 0., 0., 0., 0., 0., 0., 0., 0., 0., 0., 0., 0., 0., 0.,\n",
      "       0., 0., 0., 0., 0., 0., 0., 0., 0., 0., 0., 0., 0., 0., 0., 4., 0.,\n",
      "       0., 0., 0., 0., 0., 0., 0., 0., 0., 0., 0., 0., 0., 0., 0., 0., 0.,\n",
      "       0., 0., 0., 0., 0., 0., 0., 0., 0., 0., 0., 0., 0., 0., 0., 0., 0.,\n",
      "       0., 0., 0., 0., 0., 0., 0., 0., 0., 0., 0., 0., 0., 0., 0., 0., 0.,\n",
      "       0., 0., 0., 0., 0., 0., 0., 0., 0., 0., 0., 0., 0., 0., 0., 0., 0.,\n",
      "       0., 0., 0., 0., 0., 0., 0., 0., 0., 9.])}\n"
     ]
    }
   ],
   "source": [
    "# 2. function to calculate word vectors from the textCorpus strings against the dictionary\n",
    "def textToVectors(textCorpus: list, uniqueWords: dict):\n",
    "    corpusVectors = {}\n",
    "    for sentence in textCorpus:\n",
    "        # storing original sentence for later use as the key\n",
    "        originalSentence = sentence\n",
    "        # initiate wordVector\n",
    "        wordVector = np.array([])\n",
    "        # clean input text keeping only characters, numbers and spaces\n",
    "        sentence = re.sub(r'[^A-Za-z0-9 ]+', '', sentence)\n",
    "        # get sentence to lowercase\n",
    "        sentence = sentence.lower()\n",
    "        # split input text into words\n",
    "        sentence = sentence.split(\" \")\n",
    "        # create a vector by checking if the words in the wordCorpus are in the inputText that should be checked for similarity\n",
    "        for word in uniqueWords:\n",
    "            if word in sentence:\n",
    "                wordVector = np.append(wordVector, uniqueWords[word] * sentence.count(word))\n",
    "            else:\n",
    "                wordVector = np.append(wordVector, 0)\n",
    "        corpusVectors[originalSentence] = wordVector\n",
    "    return corpusVectors\n",
    "\n",
    "# Testing the function and displaying functionality by printing the output\n",
    "corpusVect = textToVectors(textCorpus, wordDict)\n",
    "print(corpusVect)"
   ]
  },
  {
   "cell_type": "code",
   "execution_count": 45,
   "id": "13f75987",
   "metadata": {},
   "outputs": [
    {
     "name": "stdout",
     "output_type": "stream",
     "text": [
      "{'Most emissions are produced by industrialized, rich countries and not other, poorer countries.': array([0., 0., 0., 0., 0., 0., 0., 0., 0., 0., 0., 0., 0., 0., 0., 0., 0.,\n",
      "       2., 0., 0., 0., 0., 0., 0., 0., 0., 0., 0., 0., 1., 0., 0., 1., 0.,\n",
      "       0., 0., 0., 0., 1., 0., 0., 0., 0., 0., 0., 0., 0., 0., 0., 0., 0.,\n",
      "       0., 0., 0., 0., 0., 0., 0., 0., 0., 0., 0., 0., 1., 0., 0., 0., 0.,\n",
      "       0., 0., 0., 0., 0., 0., 0., 0., 0., 1., 0., 0., 0., 0., 0., 0., 0.,\n",
      "       0., 0., 0., 0., 0., 0., 0., 0., 0., 0., 0., 0., 0., 0., 0., 0., 0.,\n",
      "       0., 0., 0., 0., 0., 1., 1., 1., 1., 1.])}\n"
     ]
    }
   ],
   "source": [
    "#3. function to calculate a word vector from the input \n",
    "def inputToVector(inputText: str, uniqueWords: dict):\n",
    "    # store original input sentece\n",
    "    originalInput = inputText\n",
    "    wordVector = np.array([])\n",
    "    # clean input text keeping only characters, numbers and spaces\n",
    "    inputText = re.sub(r'[^A-Za-z0-9 ]+', '', inputText)\n",
    "    # get inputText to lowercase\n",
    "    inputText = inputText.lower()\n",
    "    # split input text into words\n",
    "    inputText = inputText.split(\" \")\n",
    "    # create a vector by checking if the words in the wordCorpus are in the inputText that should be checked for similarity\n",
    "    for word in uniqueWords:\n",
    "        if word in inputText:\n",
    "            wordVector = np.append(wordVector, uniqueWords[word] * inputText.count(word))\n",
    "        else:\n",
    "            wordVector = np.append(wordVector, 0)\n",
    "    inputVector = {originalInput:wordVector}\n",
    "    return inputVector\n",
    "\n",
    "# Testing the function and displaying functionality by printing the output\n",
    "inpVector = inputToVector(inputText, wordDict)\n",
    "print(inpVector)"
   ]
  },
  {
   "cell_type": "code",
   "execution_count": 46,
   "id": "8421ce6f",
   "metadata": {},
   "outputs": [
    {
     "name": "stdout",
     "output_type": "stream",
     "text": [
      "Which distance measure do you want to use? Choose between 'Euclidean Distance' (type 1) or 'Dot Product' (type 2) or type 'Stop'1\n",
      "{'What Time Do the Polls Close?': 4.47213595499958, 'New Voting Laws Add Difficulties for People With Disabilities Disabilities ': 5.196152422706632, 'African Countries Say Richer Nations Fall Short on Climate Pledges': 4.47213595499958, 'Switzerland is paying poorer countries to cut emissions on its behalf, raising concerns that other nations will follow.': 4.69041575982343, 'Apple Built Its Empire With China. Now Its Foundation Is Showing Cracks.': 5.291502622129181, 'China’s Business Elite See the Country That Let Them Thrive Slipping Away': 5.0990195135927845, 'AFP claims Medibank hackers are Russian cybercriminals': 4.358898943540674, 'States record spike in COVID-19 cases': 4.47213595499958, 'Australia marks Remembrance Day': 4.242640687119285, 'Democracy and the End of Roe Shaped the Midterm Results': 4.898979485566356, 'An air of suspense is hanging over the Capitol as the vote counting continues, Carl Hulse writes.': 5.744562646538029, 'Amid Chaos and Explosions, Russia Says Retreat From Kherson City Is Complete': 4.898979485566356, 'Most emissions are produced by industrialized countries': 2.23606797749979, 'Emissions emissions Emissions Emissions rich rich rich rich rich rich rich rich rich': 9.219544457292887}\n"
     ]
    }
   ],
   "source": [
    "#4. function to calculate the similarity and keep track of results in a dictionary \n",
    "def calculateSimilarity(corpusVectors, inputVector, inputText):\n",
    "\n",
    "    # implement an option for users to chose between using the Dot Product or the Euclidian Distance as a similarity measure\n",
    "    # while loop to ensure the input is valid\n",
    "    check = False\n",
    "    # as long as there was no valid input, request input\n",
    "    while check == False:\n",
    "        # get input\n",
    "        distMeasure = input(\"Which distance measure do you want to use? Choose between 'Euclidean Distance' (type 1) or 'Dot Product' (type 2) or type 'Stop'\")\n",
    "        distMeasure = str(distMeasure)\n",
    "        # check if input is valid\n",
    "        if distMeasure == \"1\" or distMeasure == \"2\":\n",
    "            # if it is valid, change check to true and break the while loop\n",
    "            check = True\n",
    "        elif distMeasure.lower() == \"stop\":\n",
    "            #\n",
    "            break\n",
    "        else:\n",
    "            # else print error message and stay in loop\n",
    "            print(\"There was a problem with your input, try again! (Either 1 or 2, or 'Stop' to end the program)\")\n",
    "            \n",
    "\n",
    "    # initiate dict to store results\n",
    "    results = {}\n",
    "    \n",
    "    for originalSentence in corpusVectors:\n",
    "        checkArr = corpusVectors[originalSentence]\n",
    "        if distMeasure == \"2\":\n",
    "            dotProd = inputVector[inputText] @ checkArr\n",
    "            results[originalSentence] = dotProd \n",
    "        elif distMeasure == \"1\":\n",
    "            # calculate euclidean distance between vectors\n",
    "            euclideanDist = np.linalg.norm(inputVector[inputText] - checkArr)\n",
    "            results[originalSentence] = euclideanDist\n",
    "    return results, distMeasure\n",
    "\n",
    "# Testing the function and displaying functionality by printing the output\n",
    "similarity, distMeasure = calculateSimilarity(corpusVect, inpVector, inputText)\n",
    "print(similarity)"
   ]
  },
  {
   "cell_type": "code",
   "execution_count": 47,
   "id": "383cad5a",
   "metadata": {},
   "outputs": [],
   "source": [
    "def TextDocumentSimilarity(textCorpus, inputText):\n",
    "\n",
    "    # 1. word dictionary\n",
    "    uniqueWords = createWordDict(textCorpus)\n",
    "\n",
    "    # 2. transform individual strings in inputCorpus to vectors\n",
    "    corpusVectors = textToVectors(textCorpus, uniqueWords)\n",
    "\n",
    "    #3. calculate a word vector from the input \n",
    "    inputVector = inputToVector(inputText, uniqueWords)\n",
    "    #4. calculate the similarity and keep track of results in a dictionary, also saving chosen distance measure\n",
    "    results, measure = calculateSimilarity(corpusVectors, inputVector, inputText)\n",
    "\n",
    "    # 5. finally print the results\n",
    "    if measure == \"2\":\n",
    "        print(\"Dot product chosen - Interpretation help: The higher the value, the more similar the sentences.\")\n",
    "    elif measure == \"1\":\n",
    "        print(\"Euclidean Distance chosen - Interpretation help: The maximum similarity value for the chosen method would be 0, the higher the value the more different the sentences.\")\n",
    "    print()\n",
    "    print(\"The input text: '\",inputText, \"' is similar to the following sentences in descending order:\")\n",
    "    print()\n",
    "    resultsList = []\n",
    "    if measure == \"2\":\n",
    "        for arr in sorted(results, key = results.get, reverse = True):\n",
    "            resultsList.append(str(arr + \" - Similarity: \" + str(results[arr])))\n",
    "        print(*resultsList, sep=\"\\n\")\n",
    "    elif measure == \"1\":\n",
    "        for arr in sorted(results, key = results.get, reverse = False):\n",
    "            resultsList.append(str(arr + \" - Distance: \" + str(results[arr])))\n",
    "        print(*resultsList, sep=\"\\n\")"
   ]
  },
  {
   "cell_type": "markdown",
   "id": "ee2fa1cf",
   "metadata": {},
   "source": [
    "### Testing Functionality"
   ]
  },
  {
   "cell_type": "code",
   "execution_count": 48,
   "id": "226f9ef7",
   "metadata": {},
   "outputs": [
    {
     "name": "stdout",
     "output_type": "stream",
     "text": [
      "Which distance measure do you want to use? Choose between 'Euclidean Distance' (type 1) or 'Dot Product' (type 2) or type 'Stop'1\n",
      "Euclidean Distance chosen - Interpretation help: The maximum similarity value for the chosen method would be 0, the higher the value the more different the sentences.\n",
      "\n",
      "The input text: ' Most emissions are produced by industrialized, rich countries and not other, poorer countries. ' is similar to the following sentences in descending order:\n",
      "\n",
      "Most emissions are produced by industrialized countries - Distance: 2.23606797749979\n",
      "Australia marks Remembrance Day - Distance: 4.242640687119285\n",
      "AFP claims Medibank hackers are Russian cybercriminals - Distance: 4.358898943540674\n",
      "What Time Do the Polls Close? - Distance: 4.47213595499958\n",
      "African Countries Say Richer Nations Fall Short on Climate Pledges - Distance: 4.47213595499958\n",
      "States record spike in COVID-19 cases - Distance: 4.47213595499958\n",
      "Switzerland is paying poorer countries to cut emissions on its behalf, raising concerns that other nations will follow. - Distance: 4.69041575982343\n",
      "Democracy and the End of Roe Shaped the Midterm Results - Distance: 4.898979485566356\n",
      "Amid Chaos and Explosions, Russia Says Retreat From Kherson City Is Complete - Distance: 4.898979485566356\n",
      "China’s Business Elite See the Country That Let Them Thrive Slipping Away - Distance: 5.0990195135927845\n",
      "New Voting Laws Add Difficulties for People With Disabilities Disabilities  - Distance: 5.196152422706632\n",
      "Apple Built Its Empire With China. Now Its Foundation Is Showing Cracks. - Distance: 5.291502622129181\n",
      "An air of suspense is hanging over the Capitol as the vote counting continues, Carl Hulse writes. - Distance: 5.744562646538029\n",
      "Emissions emissions Emissions Emissions rich rich rich rich rich rich rich rich rich - Distance: 9.219544457292887\n"
     ]
    }
   ],
   "source": [
    "# Similarity using Euclidean Distance\n",
    "TextDocumentSimilarity(textCorpus, inputText)"
   ]
  },
  {
   "cell_type": "code",
   "execution_count": 49,
   "id": "f462bd6e",
   "metadata": {},
   "outputs": [
    {
     "name": "stdout",
     "output_type": "stream",
     "text": [
      "Which distance measure do you want to use? Choose between 'Euclidean Distance' (type 1) or 'Dot Product' (type 2) or type 'Stop'2\n",
      "Dot product chosen - Interpretation help: The higher the value, the more similar the sentences.\n",
      "\n",
      "The input text: ' Most emissions are produced by industrialized, rich countries and not other, poorer countries. ' is similar to the following sentences in descending order:\n",
      "\n",
      "Emissions emissions Emissions Emissions rich rich rich rich rich rich rich rich rich - Similarity: 13.0\n",
      "Most emissions are produced by industrialized countries - Similarity: 8.0\n",
      "Switzerland is paying poorer countries to cut emissions on its behalf, raising concerns that other nations will follow. - Similarity: 5.0\n",
      "African Countries Say Richer Nations Fall Short on Climate Pledges - Similarity: 2.0\n",
      "AFP claims Medibank hackers are Russian cybercriminals - Similarity: 1.0\n",
      "Democracy and the End of Roe Shaped the Midterm Results - Similarity: 1.0\n",
      "Amid Chaos and Explosions, Russia Says Retreat From Kherson City Is Complete - Similarity: 1.0\n",
      "What Time Do the Polls Close? - Similarity: 0.0\n",
      "New Voting Laws Add Difficulties for People With Disabilities Disabilities  - Similarity: 0.0\n",
      "Apple Built Its Empire With China. Now Its Foundation Is Showing Cracks. - Similarity: 0.0\n",
      "China’s Business Elite See the Country That Let Them Thrive Slipping Away - Similarity: 0.0\n",
      "States record spike in COVID-19 cases - Similarity: 0.0\n",
      "Australia marks Remembrance Day - Similarity: 0.0\n",
      "An air of suspense is hanging over the Capitol as the vote counting continues, Carl Hulse writes. - Similarity: 0.0\n"
     ]
    }
   ],
   "source": [
    "# Similarity using dot product\n",
    "TextDocumentSimilarity(textCorpus, inputText)"
   ]
  }
 ],
 "metadata": {
  "kernelspec": {
   "display_name": "Python 3 (ipykernel)",
   "language": "python",
   "name": "python3"
  },
  "language_info": {
   "codemirror_mode": {
    "name": "ipython",
    "version": 3
   },
   "file_extension": ".py",
   "mimetype": "text/x-python",
   "name": "python",
   "nbconvert_exporter": "python",
   "pygments_lexer": "ipython3",
   "version": "3.9.12"
  },
  "vscode": {
   "interpreter": {
    "hash": "31f2aee4e71d21fbe5cf8b01ff0e069b9275f58929596ceb00d14d90e3e16cd6"
   }
  }
 },
 "nbformat": 4,
 "nbformat_minor": 5
}
